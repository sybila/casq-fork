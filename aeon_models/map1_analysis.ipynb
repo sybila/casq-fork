{
 "cells": [
  {
   "cell_type": "code",
   "id": "db708108-9677-4f66-88a0-4d95457b242f",
   "metadata": {
    "ExecuteTime": {
     "end_time": "2024-05-17T17:16:17.578102Z",
     "start_time": "2024-05-17T17:16:17.466187Z"
    }
   },
   "source": [
    "from biodivine_aeon import *\n",
    "from pathlib import Path"
   ],
   "outputs": [],
   "execution_count": 8
  },
  {
   "cell_type": "code",
   "id": "1c7133c4-1316-4aa1-b822-c273aebaf019",
   "metadata": {
    "ExecuteTime": {
     "end_time": "2024-05-17T17:16:19.999911Z",
     "start_time": "2024-05-17T17:16:19.910019Z"
    }
   },
   "source": [
    "model = BooleanNetwork.from_file(\"model_map1.aeon\")\n",
    "print(model)"
   ],
   "outputs": [
    {
     "name": "stdout",
     "output_type": "stream",
     "text": [
      "BooleanNetwork(variables=91, regulations=124, explicit_parameters=37, implicit_parameters=22)\n"
     ]
    }
   ],
   "execution_count": 9
  },
  {
   "cell_type": "code",
   "id": "7490719b-8731-49f4-8330-d2f917a62491",
   "metadata": {
    "ExecuteTime": {
     "end_time": "2024-05-17T17:16:25.898436Z",
     "start_time": "2024-05-17T17:16:25.666691Z"
    }
   },
   "source": [
    "stg = AsynchronousGraph(model)"
   ],
   "outputs": [],
   "execution_count": 10
  },
  {
   "cell_type": "markdown",
   "id": "bb050885-428e-4018-a4e3-6b1d03c87314",
   "metadata": {},
   "source": [
    "First, we identify the unknown functions that can be safely eliminated because they have only one interpretations that satisfies all the requirements regarding their input monotonicity and essentiality."
   ]
  },
  {
   "metadata": {
    "ExecuteTime": {
     "end_time": "2024-05-17T17:16:31.046363Z",
     "start_time": "2024-05-17T17:16:30.803089Z"
    }
   },
   "cell_type": "code",
   "source": [
    "to_eliminate = []\n",
    "for param in model.explicit_parameters():\n",
    "    print(model.get_explicit_parameter_name(param))\n",
    "    count = 0\n",
    "    for m in stg.mk_unit_colors().items(retained=[param]):\n",
    "        print(\" > \", m)\n",
    "        count += 1\n",
    "        if count == 100:\n",
    "            break\n",
    "    if count == 1:\n",
    "        to_eliminate.append(param)"
   ],
   "id": "076900c5-af0a-4b76-8bc9-cbcafcc077cf",
   "outputs": [
    {
     "name": "stdout",
     "output_type": "stream",
     "text": [
      "cat_MKK7_MAP2K7__phosphorylated_67\n",
      " >  ColorModel({'cat_MKK7_MAP2K7__phosphorylated_67': 'x_0'})\n",
      "cat_Cbp_PAG_phosphorylated_palmytoylated_69\n",
      " >  ColorModel({'cat_Cbp_PAG_phosphorylated_palmytoylated_69': 'x_0'})\n",
      "cat_Btk_phosphorylated_Cytosol_42\n",
      " >  ColorModel({'cat_Btk_phosphorylated_Cytosol_42': 'x_0'})\n",
      "cat_Fos_phosphorylated_68\n",
      " >  ColorModel({'cat_Fos_phosphorylated_68': 'x_0'})\n",
      "cat_MEK2_MAP2K2__phosphorylated_41\n",
      " >  ColorModel({'cat_MEK2_MAP2K2__phosphorylated_41': 'x_0'})\n",
      "cat_SOS_Grb2_complex_5\n",
      " >  ColorModel({'cat_SOS_Grb2_complex_5': 'x_0'})\n",
      " >  ColorModel({'cat_SOS_Grb2_complex_5': 'true'})\n",
      "cat_Erk_MAPK1_3__phosphorylated_49\n",
      " >  ColorModel({'cat_Erk_MAPK1_3__phosphorylated_49': '(x_0 & x_1)'})\n",
      " >  ColorModel({'cat_Erk_MAPK1_3__phosphorylated_49': '((!x_0 & x_1) | x_0)'})\n",
      "cat_PLCG1_phosphorylated_64\n",
      " >  ColorModel({'cat_PLCG1_phosphorylated_64': 'x_0'})\n",
      "cat_Shc_phosphorylated_56\n",
      " >  ColorModel({'cat_Shc_phosphorylated_56': '(x_0 & x_1)'})\n",
      " >  ColorModel({'cat_Shc_phosphorylated_56': '((!x_0 & x_1) | x_0)'})\n",
      "cat_Fc_gamma_RIIB_phosphorylated_66\n",
      " >  ColorModel({'cat_Fc_gamma_RIIB_phosphorylated_66': 'x_0'})\n",
      "cat_Fyn_phosphorylated_phosphorylated_palmytoylated_62\n",
      " >  ColorModel({'cat_Fyn_phosphorylated_phosphorylated_palmytoylated_62': 'x_0'})\n",
      "cat_IKK_Beta_phosphorylated_39\n",
      " >  ColorModel({'cat_IKK_Beta_phosphorylated_39': 'x_0'})\n",
      "cat_Ca2__ion_35\n",
      " >  ColorModel({'cat_Ca2__ion_35': 'x_0'})\n",
      "cat_FceRI_Syk_complex_Cytosol_1_24\n",
      " >  ColorModel({'cat_FceRI_Syk_complex_Cytosol_1_24': 'x_0'})\n",
      " >  ColorModel({'cat_FceRI_Syk_complex_Cytosol_1_24': 'true'})\n",
      "cat_FceRI_phosphorylated_phosphorylated_46\n",
      " >  ColorModel({'cat_FceRI_phosphorylated_phosphorylated_46': 'x_0'})\n",
      "cat_SLP_76_phosphorylated_40\n",
      " >  ColorModel({'cat_SLP_76_phosphorylated_40': 'x_0'})\n",
      "cat_LAT2_phosphorylated_palmytoylated_47\n",
      " >  ColorModel({'cat_LAT2_phosphorylated_palmytoylated_47': '(x_0 & x_1)'})\n",
      " >  ColorModel({'cat_LAT2_phosphorylated_palmytoylated_47': '((!x_0 & x_1) | x_0)'})\n",
      "cat_PIP3_Akt_complex_8\n",
      " >  ColorModel({'cat_PIP3_Akt_complex_8': 'x_0'})\n",
      " >  ColorModel({'cat_PIP3_Akt_complex_8': 'true'})\n",
      "cat_Ca2__ion_34\n",
      " >  ColorModel({'cat_Ca2__ion_34': 'x_0'})\n",
      "cat_DAG_simple_molecule_65\n",
      " >  ColorModel({'cat_DAG_simple_molecule_65': '(x_0 & x_1)'})\n",
      " >  ColorModel({'cat_DAG_simple_molecule_65': '((!x_0 & x_1) | x_0)'})\n",
      "cat_Ca2_space_channel_36\n",
      " >  ColorModel({'cat_Ca2_space_channel_36': 'x_0'})\n",
      "cat_LAT1_phosphorylated_phosphorylated_phosphorylated_phosphorylated_palmytoylated_54\n",
      " >  ColorModel({'cat_LAT1_phosphorylated_phosphorylated_phosphorylated_phosphorylated_palmytoylated_54': 'x_0'})\n",
      "cat_Btk_phosphorylated_Cytosol_43\n",
      " >  ColorModel({'cat_Btk_phosphorylated_Cytosol_43': 'x_0'})\n",
      "cat_MEK4_MAP2K4__phosphorylated_61\n",
      " >  ColorModel({'cat_MEK4_MAP2K4__phosphorylated_61': 'x_0'})\n",
      "cat_PIP3_simple_molecule_55\n",
      " >  ColorModel({'cat_PIP3_simple_molecule_55': 'x_0'})\n",
      "cat_Calmodulin_Calcineurin_complex_19\n",
      " >  ColorModel({'cat_Calmodulin_Calcineurin_complex_19': '(x_0 & x_1)'})\n",
      " >  ColorModel({'cat_Calmodulin_Calcineurin_complex_19': 'x_0'})\n",
      " >  ColorModel({'cat_Calmodulin_Calcineurin_complex_19': 'x_1'})\n",
      " >  ColorModel({'cat_Calmodulin_Calcineurin_complex_19': '((!x_0 & x_1) | x_0)'})\n",
      "cat_MEK1_MAP2K1__phosphorylated_50\n",
      " >  ColorModel({'cat_MEK1_MAP2K1__phosphorylated_50': 'x_0'})\n",
      "cat_c_JUN_phosphorylated_nucleus_1_59\n",
      " >  ColorModel({'cat_c_JUN_phosphorylated_nucleus_1_59': 'x_0'})\n",
      "cat_JNK_phosphorylated_70\n",
      " >  ColorModel({'cat_JNK_phosphorylated_70': '(x_0 & x_1)'})\n",
      " >  ColorModel({'cat_JNK_phosphorylated_70': '((!x_0 & x_1) | x_0)'})\n",
      "cat_NFAT_Cytosol_73\n",
      " >  ColorModel({'cat_NFAT_Cytosol_73': 'x_0'})\n",
      "cat_SHIP_1_phosphorylated_52\n",
      " >  ColorModel({'cat_SHIP_1_phosphorylated_52': 'x_0'})\n",
      "cat_I_kappa_Beta___F_kappa_B_complex_32\n",
      " >  ColorModel({'cat_I_kappa_Beta___F_kappa_B_complex_32': 'x_0'})\n",
      "cat_Gab2_phosphorylated_51\n",
      " >  ColorModel({'cat_Gab2_phosphorylated_51': 'x_0'})\n",
      "cat_Elk1_phosphorylated_53\n",
      " >  ColorModel({'cat_Elk1_phosphorylated_53': '(x_0 & (x_1 & x_2))'})\n",
      " >  ColorModel({'cat_Elk1_phosphorylated_53': '((!x_0 & (x_1 & x_2)) | (x_0 & x_2))'})\n",
      " >  ColorModel({'cat_Elk1_phosphorylated_53': '((!x_0 & (x_1 & x_2)) | (x_0 & x_1))'})\n",
      " >  ColorModel({'cat_Elk1_phosphorylated_53': '((x_0 & (!x_1 & x_2)) | (x_0 & x_1))'})\n",
      " >  ColorModel({'cat_Elk1_phosphorylated_53': '((!x_0 & (x_1 & x_2)) | ((x_0 & (!x_1 & x_2)) | (x_0 & x_1)))'})\n",
      " >  ColorModel({'cat_Elk1_phosphorylated_53': '((!x_0 & x_2) | ((x_0 & (!x_1 & x_2)) | (x_0 & x_1)))'})\n",
      " >  ColorModel({'cat_Elk1_phosphorylated_53': '((!x_0 & x_1) | ((x_0 & (!x_1 & x_2)) | (x_0 & x_1)))'})\n",
      " >  ColorModel({'cat_Elk1_phosphorylated_53': '((!x_0 & (x_1 & x_2)) | x_0)'})\n",
      " >  ColorModel({'cat_Elk1_phosphorylated_53': '((!x_0 & (!x_1 & x_2)) | ((!x_0 & x_1) | x_0))'})\n",
      "cat_FceRI_Syk_complex_Cytosol_1_25\n",
      " >  ColorModel({'cat_FceRI_Syk_complex_Cytosol_1_25': 'x_0'})\n",
      "cat_IP3_simple_molecule_57\n",
      " >  ColorModel({'cat_IP3_simple_molecule_57': '(x_0 & x_1)'})\n",
      " >  ColorModel({'cat_IP3_simple_molecule_57': '((!x_0 & x_1) | x_0)'})\n",
      "cat_MEKK1_MAP3K1__phosphorylated_74\n",
      " >  ColorModel({'cat_MEKK1_MAP3K1__phosphorylated_74': 'x_0'})\n"
     ]
    }
   ],
   "execution_count": 11
  },
  {
   "metadata": {
    "ExecuteTime": {
     "end_time": "2024-05-17T17:16:41.492431Z",
     "start_time": "2024-05-17T17:16:41.465775Z"
    }
   },
   "cell_type": "code",
   "source": "print(to_eliminate)",
   "id": "7281ca14-3ebd-4bf3-b53b-606f07ae91b7",
   "outputs": [
    {
     "name": "stdout",
     "output_type": "stream",
     "text": [
      "[ParameterId(27), ParameterId(6), ParameterId(0), ParameterId(14), ParameterId(24), ParameterId(31), ParameterId(10), ParameterId(15), ParameterId(17), ParameterId(3), ParameterId(13), ParameterId(33), ParameterId(2), ParameterId(4), ParameterId(21), ParameterId(1), ParameterId(25), ParameterId(30), ParameterId(23), ParameterId(36), ParameterId(28), ParameterId(32), ParameterId(19), ParameterId(16), ParameterId(12), ParameterId(26)]\n"
     ]
    }
   ],
   "execution_count": 12
  },
  {
   "metadata": {
    "ExecuteTime": {
     "end_time": "2024-05-17T17:20:27.565232Z",
     "start_time": "2024-05-17T17:20:27.429177Z"
    }
   },
   "cell_type": "code",
   "source": "m = next(stg.mk_unit_colors().items(retained = to_eliminate))",
   "id": "a128d95b-1c85-47be-8f3f-e2714547e4cd",
   "outputs": [],
   "execution_count": 13
  },
  {
   "cell_type": "code",
   "id": "76b3699d-cf12-4cb0-a7f1-c358692717c3",
   "metadata": {
    "ExecuteTime": {
     "end_time": "2024-05-17T17:04:19.284454Z",
     "start_time": "2024-05-17T17:04:18.657235Z"
    }
   },
   "source": [
    "model_simplified = m.instantiate(model)"
   ],
   "outputs": [
    {
     "ename": "PanicException",
     "evalue": "assertion failed: translation_map.contains_key(&var) || param_map.contains_key(&var)",
     "output_type": "error",
     "traceback": [
      "\u001B[1;31m---------------------------------------------------------------------------\u001B[0m",
      "\u001B[1;31mPanicException\u001B[0m                            Traceback (most recent call last)",
      "Cell \u001B[1;32mIn[7], line 1\u001B[0m\n\u001B[1;32m----> 1\u001B[0m model_simplified \u001B[38;5;241m=\u001B[39m \u001B[43mm\u001B[49m\u001B[38;5;241;43m.\u001B[39;49m\u001B[43minstantiate\u001B[49m\u001B[43m(\u001B[49m\u001B[43mmodel\u001B[49m\u001B[43m)\u001B[49m\n",
      "\u001B[1;31mPanicException\u001B[0m: assertion failed: translation_map.contains_key(&var) || param_map.contains_key(&var)"
     ]
    }
   ],
   "execution_count": 7
  },
  {
   "cell_type": "code",
   "id": "67ebed1f-2a8e-46f1-8f82-00695a96f62e",
   "metadata": {
    "ExecuteTime": {
     "end_time": "2024-05-17T17:02:28.917108Z",
     "start_time": "2024-05-17T17:02:28.886173Z"
    }
   },
   "source": [
    "Path(\"model_map1.simplified.aeon\").write_text(model_simplified.to_aeon())"
   ],
   "outputs": [
    {
     "ename": "NameError",
     "evalue": "name 'model_simplified' is not defined",
     "output_type": "error",
     "traceback": [
      "\u001B[1;31m---------------------------------------------------------------------------\u001B[0m",
      "\u001B[1;31mNameError\u001B[0m                                 Traceback (most recent call last)",
      "Cell \u001B[1;32mIn[13], line 1\u001B[0m\n\u001B[1;32m----> 1\u001B[0m Path(\u001B[38;5;124m\"\u001B[39m\u001B[38;5;124mmodel_map1.simplified.aeon\u001B[39m\u001B[38;5;124m\"\u001B[39m)\u001B[38;5;241m.\u001B[39mwrite_text(\u001B[43mmodel_simplified\u001B[49m\u001B[38;5;241m.\u001B[39mto_aeon())\n",
      "\u001B[1;31mNameError\u001B[0m: name 'model_simplified' is not defined"
     ]
    }
   ],
   "execution_count": 13
  },
  {
   "cell_type": "code",
   "execution_count": 9,
   "id": "df25a801-6d30-4792-b675-4086131b1137",
   "metadata": {},
   "outputs": [],
   "source": [
    "stg = AsynchronousGraph(model_simplified)"
   ]
  },
  {
   "cell_type": "code",
   "execution_count": 10,
   "id": "10a1ee76-9ca6-4221-aadf-c1430dce2067",
   "metadata": {},
   "outputs": [
    {
     "data": {
      "text/plain": [
       "['Ca2_slash_DAG_RASGRP1_RAS_C_RAF_complex',\n",
       " 'Elk1_phosphorylated',\n",
       " 'Fyn_phosphorylated_phosphorylated_palmytoylated',\n",
       " 'I_kB_phosphorylated',\n",
       " 'Jun_Fos_complex',\n",
       " 'LAT2_Grb2_Shc_SOS_H_RAS_RAF1_complex',\n",
       " 'NFAT_nucleus',\n",
       " 'NF_kappa_B_nucleus',\n",
       " 'PIP3_Akt_complex',\n",
       " 'c_JUN_phosphorylated_nucleus']"
      ]
     },
     "execution_count": 10,
     "metadata": {},
     "output_type": "execute_result"
    }
   ],
   "source": [
    "# This identifies model outputs. In the next step, we restrict them manually to\n",
    "# a subset of outputs that are biologically interpretable.\n",
    "outputs = []\n",
    "for var in model_simplified.variable_names():\n",
    "    if len(model_simplified.successors(var)) == 0:\n",
    "        outputs.append(var)\n",
    "outputs"
   ]
  },
  {
   "cell_type": "code",
   "execution_count": 11,
   "id": "90d0e50f-47ca-4e3a-b912-706dd4da4f67",
   "metadata": {},
   "outputs": [
    {
     "data": {
      "text/plain": [
       "['Ca2_slash_DAG_RASGRP1_RAS_C_RAF_complex',\n",
       " 'Elk1_phosphorylated',\n",
       " 'Jun_Fos_complex',\n",
       " 'NFAT_nucleus',\n",
       " 'NF_kappa_B_nucleus',\n",
       " 'PIP3_Akt_complex']"
      ]
     },
     "execution_count": 11,
     "metadata": {},
     "output_type": "execute_result"
    }
   ],
   "source": [
    "# Actually relevant outputs:\n",
    "outputs = ['Ca2_slash_DAG_RASGRP1_RAS_C_RAF_complex',\n",
    " 'Elk1_phosphorylated',\n",
    " 'Jun_Fos_complex',\n",
    " 'NFAT_nucleus',\n",
    " 'NF_kappa_B_nucleus',\n",
    " 'PIP3_Akt_complex']\n",
    "outputs"
   ]
  },
  {
   "cell_type": "code",
   "execution_count": 12,
   "id": "7ec1ee60-b63a-48ce-aab8-5d6b3ece89fe",
   "metadata": {},
   "outputs": [
    {
     "data": {
      "text/plain": [
       "['Akt',\n",
       " 'Bcr',\n",
       " 'Btk',\n",
       " 'CRAC',\n",
       " 'Csk',\n",
       " 'Dok1_RasGAP_complex',\n",
       " 'Fyn_phosphorylated_palmytoylated',\n",
       " 'GRAP2',\n",
       " 'H_RAS_Plasma_space_Membrane',\n",
       " 'LAT2_Grb2_complex',\n",
       " 'PAK2',\n",
       " 'PIP2_simple_molecule',\n",
       " 'PI_3K',\n",
       " 'PKC_space_Theta',\n",
       " 'PLCG1',\n",
       " 'RAF1_Cytosol',\n",
       " 'RASGRP1',\n",
       " 'Rac1',\n",
       " 'Shc_Grb2_complex',\n",
       " 'Syk',\n",
       " 'Vav1',\n",
       " 'cCbl']"
      ]
     },
     "execution_count": 12,
     "metadata": {},
     "output_type": "execute_result"
    }
   ],
   "source": [
    "inputs = []\n",
    "for var in model_simplified.variable_names():\n",
    "    if len(model_simplified.predecessors(var)) == 0:\n",
    "        inputs.append(var)\n",
    "inputs"
   ]
  },
  {
   "cell_type": "code",
   "execution_count": 13,
   "id": "244caabc-ad98-47cc-89a0-48f39eb9129b",
   "metadata": {},
   "outputs": [
    {
     "data": {
      "text/plain": [
       "[('cat_Calmodulin_Calcineurin_complex_19', 2),\n",
       " ('cat_DAG_simple_molecule_65', 2),\n",
       " ('cat_Elk1_phosphorylated_53', 3),\n",
       " ('cat_Erk_MAPK1_3__phosphorylated_49', 2),\n",
       " ('cat_FceRI_Syk_complex_Cytosol_1_24', 1),\n",
       " ('cat_IP3_simple_molecule_57', 2),\n",
       " ('cat_JNK_phosphorylated_70', 2),\n",
       " ('cat_LAT2_phosphorylated_palmytoylated_47', 2),\n",
       " ('cat_PIP3_Akt_complex_8', 1),\n",
       " ('cat_SOS_Grb2_complex_5', 1),\n",
       " ('cat_Shc_phosphorylated_56', 2)]"
      ]
     },
     "execution_count": 13,
     "metadata": {},
     "output_type": "execute_result"
    }
   ],
   "source": [
    "params = []\n",
    "for p in model_simplified.explicit_parameter_names():\n",
    "    params.append((p, model_simplified.get_explicit_parameter_arity(p)))\n",
    "params"
   ]
  },
  {
   "cell_type": "code",
   "execution_count": 14,
   "id": "60457ec5-13af-46af-8251-d3dcd2ab95b1",
   "metadata": {},
   "outputs": [],
   "source": [
    "ctx = SymbolicSpaceContext(model_simplified)\n",
    "stg = AsynchronousGraph(model_simplified, ctx)"
   ]
  },
  {
   "cell_type": "markdown",
   "id": "0299b7d9-3a5b-4628-863d-5b594ec625c0",
   "metadata": {},
   "source": [
    "Compute minimal trap spaces across all interpretations. These should almost exactly correspond to model attractors (this can take a few minutes)."
   ]
  },
  {
   "cell_type": "code",
   "execution_count": 15,
   "id": "c3c1dc91-6bbc-4f31-86a1-42c30909e02d",
   "metadata": {},
   "outputs": [
    {
     "name": "stdout",
     "output_type": "stream",
     "text": [
      "Start symbolic essential trap space search with 2024261176623274600000000000000000000000000000000000000[nodes:236] candidates.\n",
      " > Merge. New result has 123457 BDD nodes. Remaining constraints: 10.\n",
      " > Merge. New result has 152944 BDD nodes. Remaining constraints: 9.\n",
      " > Merge. New result has 158220 BDD nodes. Remaining constraints: 8.\n",
      " > Merge. New result has 218609 BDD nodes. Remaining constraints: 7.\n",
      " > Merge. New result has 195497 BDD nodes. Remaining constraints: 6.\n",
      " > Merge. New result has 209627 BDD nodes. Remaining constraints: 5.\n",
      " > Merge. New result has 257497 BDD nodes. Remaining constraints: 4.\n",
      " > Merge. New result has 248221 BDD nodes. Remaining constraints: 3.\n",
      " > Merge. New result has 314759 BDD nodes. Remaining constraints: 2.\n",
      " > Merge. New result has 429900 BDD nodes. Remaining constraints: 1.\n",
      " > Merge. New result has 884192 BDD nodes. Remaining constraints: 0.\n",
      "Merge finished with 884192 BDD nodes.\n",
      "Found 77309411328x71795760[nodes:884192] essential trap spaces.\n"
     ]
    }
   ],
   "source": [
    "traps = TrapSpaces.essential_symbolic(ctx, stg, ctx.mk_unit_colored_spaces(stg))"
   ]
  },
  {
   "cell_type": "code",
   "execution_count": 16,
   "id": "7466a8e0-ceb0-4490-b36f-55565a8c4d96",
   "metadata": {},
   "outputs": [
    {
     "name": "stdout",
     "output_type": "stream",
     "text": [
      "Start minimal subspace search with 77309411328x71795760[nodes:884192] candidates.\n",
      "Computing super-spaces: 382747566778465550000000000000000000000[nodes:580482].\n",
      "Computing super-spaces: 765425037549340900000000000000000000000[nodes:580480].\n",
      "Computing super-spaces: 1530850075098681800000000000000000000000[nodes:580476].\n",
      "Computing super-spaces: 3061700150197363500000000000000000000000[nodes:580473].\n",
      "Computing super-spaces: 6123400300394727000000000000000000000000[nodes:580467].\n",
      "Computing super-spaces: 12246800600789454000000000000000000000000[nodes:580462].\n",
      "Computing super-spaces: 24493601201578910000000000000000000000000[nodes:580446].\n",
      "Computing super-spaces: 48958042464000285000000000000000000000000[nodes:580419].\n",
      "Computing super-spaces: 97886924988843040000000000000000000000000[nodes:580369].\n",
      "Computing super-spaces: 195773849977686080000000000000000000000000[nodes:580303].\n",
      "Computing super-spaces: 391547699955372150000000000000000000000000[nodes:580237].\n",
      "Computing super-spaces: 783095399910744300000000000000000000000000[nodes:580199].\n",
      "Computing super-spaces: 15661907"
     ]
    }
   ],
   "source": [
    "min_traps = TrapSpaces.minimize(ctx, traps)"
   ]
  },
  {
   "cell_type": "code",
   "execution_count": 17,
   "id": "bd11b12f-7656-4a7d-8f47-afeed55003c2",
   "metadata": {},
   "outputs": [
    {
     "name": "stdout",
     "output_type": "stream",
     "text": [
      "99821488600000000000000000000000000[nodes:580117].\n",
      "Computing super-spaces: 3132381599642977000000000000000000000000000[nodes:579659].\n",
      "Computing super-spaces: 6264763199285954000000000000000000000000000[nodes:579675].\n",
      "Computing super-spaces: 12529526398571910000000000000000000000000000[nodes:579177].\n",
      "Computing super-spaces: 25059052797143820000000000000000000000000000[nodes:578761].\n",
      "Computing super-spaces: 50117172476234590000000000000000000000000000[nodes:577837].\n",
      "Computing super-spaces: 100234344952469190000000000000000000000000000[nodes:577197].\n",
      "Computing super-spaces: 200468689904938380000000000000000000000000000[nodes:576249].\n",
      "Computing super-spaces: 400937379809876760000000000000000000000000000[nodes:573285].\n",
      "Computing super-spaces: 801874759619753500000000000000000000000000000[nodes:569983].\n",
      "Computing super-spaces: 1603749519239507000000000000000000000000000000[nodes:567519].\n",
      "Computing super-spaces: 3207499038479014000000000000000000000000000000[nodes:566495].\n",
      "Computing super-spa"
     ]
    },
    {
     "data": {
      "text/plain": [
       "ColoredSpaceSet(cardinality=228493099008, colors=77309411328, spaces=35929632, symbolic_size=588576)"
      ]
     },
     "execution_count": 17,
     "metadata": {},
     "output_type": "execute_result"
    },
    {
     "name": "stdout",
     "output_type": "stream",
     "text": [
      "ces: 6414938357402633000000000000000000000000000000[nodes:562971].\n",
      "Computing super-spaces: 12829816995249872000000000000000000000000000000[nodes:559447].\n",
      "Computing super-spaces: 25659633990499745000000000000000000000000000000[nodes:552671].\n",
      "Computing super-spaces: 51319267980999490000000000000000000000000000000[nodes:545895].\n",
      "Computing super-spaces: 102637488572873600000000000000000000000000000000[nodes:539335].\n",
      "Computing super-spaces: 205273929756621800000000000000000000000000000000[nodes:532775].\n",
      "Computing super-spaces: 410546812124118200000000000000000000000000000000[nodes:526215].\n",
      "Computing super-spaces: 820992027503074400000000000000000000000000000000[nodes:520087].\n",
      "Computing super-spaces: 1641882458260986600000000000000000000000000000000[nodes:513959].\n",
      "Computing super-spaces: 3283764916521973000000000000000000000000000000000[nodes:507183].\n",
      "Computing super-spaces: 6567529833043946000000000000000000000000000000000[nodes:502527].\n",
      "Computing super-spaces: 13135059666087893000000000000000000000000000000000[nodes:496071].\n",
      "Computing super-spaces: 26269306558214490000000000000000000000000000000000[nodes:502263].\n",
      "Computing super-spaces: 52537800342467680000000000000000000000000000000000[nodes:514321].\n",
      "Computing super-spaces: 105074787910974060000000000000000000000000000000000[nodes:511529].\n",
      "Computing super-spaces: 210149575821948130000000000000000000000000000000000[nodes:520581].\n",
      "Computing super-spaces: 420299151643896250000000000000000000000000000000000[nodes:638505].\n",
      "Computing super-spaces: 840598303287792500000000000000000000000000000000000[nodes:634481].\n",
      "Computing super-spaces: 1681190104383894600000000000000000000000000000000000[nodes:658485].\n",
      "Computing super-spaces: 3362373706576099000000000000000000000000000000000000[nodes:655033].\n",
      "Computing super-spaces: 6724745201066365000000000000000000000000000000000000[nodes:698113].\n",
      "Computing super-spaces: 13449490335099826000000000000000000000000000000000000[nodes:695077].\n",
      "Computing super-spaces: 26898959152637460000000000000000000000000000000000000[nodes:692201].\n",
      "Computing super-spaces: 53797896787712730000000000000000000000000000000000000[nodes:689325].\n",
      "Computing super-spaces: 107595772057863260000000000000000000000000000000000000[nodes:686449].\n",
      "Computing super-spaces: 215191522598164340000000000000000000000000000000000000[nodes:858439].\n",
      "Computing super-spaces: 430383023678766500000000000000000000000000000000000000[nodes:912269].\n",
      "Computing super-spaces: 860766047290500000000000000000000000000000000000000000[nodes:909061].\n",
      "Computing super-spaces: 1721532094513967200000000000000000000000000000000000000[nodes:1135202].\n",
      "Computing super-spaces: 3443064189027934400000000000000000000000000000000000000[nodes:1130530].\n",
      "Computing super-spaces: 6886128375042916000000000000000000000000000000000000000[nodes:1126002].\n",
      "Computing super-spaces: 13772256747072880000000000000000000000000000000000000000[nodes:1121474].\n",
      "Computing super-spaces: 27544513494145760000000000000000000000000000000000000000[nodes:1123350].\n",
      "Computing super-spaces: 55089026982265610000000000000000000000000000000000000000[nodes:1457856].\n",
      "Computing super-spaces: 110178053964531230000000000000000000000000000000000000000[nodes:1454968].\n",
      "Computing super-spaces: 220356107929062460000000000000000000000000000000000000000[nodes:1456828].\n",
      "Computing super-spaces: 440712215858124900000000000000000000000000000000000000000[nodes:1454952].\n",
      "Computing super-spaces: 881424431716249800000000000000000000000000000000000000000[nodes:1454756].\n",
      "Computing super-spaces: 1762848863432499700000000000000000000000000000000000000000[nodes:1452228].\n",
      "Computing super-spaces: 3525697726864999000000000000000000000000000000000000000000[nodes:1453608].\n",
      "Computing super-spaces: 7051395280569585000000000000000000000000000000000000000000[nodes:1451980].\n",
      "Computing super-spaces: 14102790561139170000000000000000000000000000000000000000000[nodes:1449920].\n",
      "Computing super-spaces: 28205581122278340000000000000000000000000000000000000000000[nodes:1447860].\n",
      "Computing super-spaces: 56411162244556680000000000000000000000000000000000000000000[nodes:2193490].\n",
      "Computing super-spaces: 112822324489113360000000000000000000000000000000000000000000[nodes:2191766].\n",
      "Computing super-spaces: 225644648978226700000000000000000000000000000000000000000000[nodes:2190042].\n",
      "Computing super-spaces: 451289297956453400000000000000000000000000000000000000000000[nodes:3408929].\n",
      "Computing super-spaces: 902578584830640400000000000000000000000000000000000000000000[nodes:4602303].\n",
      "Computing super-spaces: 1805157167191826000000000000000000000000000000000000000000000[nodes:4925748].\n",
      "Computing super-spaces: 3610314334383652000000000000000000000000000000000000000000000[nodes:4925864].\n",
      "Computing super-spaces: 7220628663064943000000000000000000000000000000000000000000000[nodes:8112195].\n",
      "Computing super-spaces: 14441257323278705000000000000000000000000000000000000000000000[nodes:11011997].\n",
      "Computing super-spaces: 28882514645131820000000000000000000000000000000000000000000000[nodes:11011905].\n",
      "Computing super-spaces: 57765029290263640000000000000000000000000000000000000000000000[nodes:11011833].\n",
      "Computing super-spaces: 115530058580527270000000000000000000000000000000000000000000000[nodes:13906630].\n",
      "Computing super-spaces: 231060117161054550000000000000000000000000000000000000000000000[nodes:13945314].\n",
      "Computing super-spaces: 462120234322109100000000000000000000000000000000000000000000000[nodes:13945278].\n",
      "Computing super-spaces: 924240468644218200000000000000000000000000000000000000000000000[nodes:13945242].\n",
      "Computing super-spaces: 1848480937242817800000000000000000000000000000000000000000000000[nodes:14634694].\n",
      "Computing super-spaces: 3696961874440016000000000000000000000000000000000000000000000000[nodes:17403880].\n",
      "Computing super-spaces: 7393923748834413000000000000000000000000000000000000000000000000[nodes:19574168].\n",
      "Computing super-spaces: 14787847497668826000000000000000000000000000000000000000000000000[nodes:19574148].\n",
      "Computing super-spaces: 29575694995337653000000000000000000000000000000000000000000000000[nodes:19574158].\n",
      "Computing super-spaces: 59151389990675310000000000000000000000000000000000000000000000000[nodes:20789054].\n",
      "Computing super-spaces: 118302779981350610000000000000000000000000000000000000000000000000[nodes:20789058].\n",
      "Computing super-spaces: 236605559962701220000000000000000000000000000000000000000000000000[nodes:20789060].\n",
      "Computing super-spaces: 473211119925402450000000000000000000000000000000000000000000000000[nodes:20789061].\n",
      "Minimization in progress: 77309411328x35836560[nodes:597794] unprocessed, 77309411328x13539472[nodes:580484] candidates.\n",
      "Computing super-spaces: 382747566778465550000000000000000000000[nodes:473612].\n",
      "Computing super-spaces: 765425037549340900000000000000000000000[nodes:473610].\n",
      "Computing super-spaces: 1530850075098681800000000000000000000000[nodes:473606].\n",
      "Computing super-spaces: 3061700150197363500000000000000000000000[nodes:473603].\n",
      "Computing super-spaces: 6123400300394727000000000000000000000000[nodes:473597].\n",
      "Computing super-spaces: 12246800600789454000000000000000000000000[nodes:473592].\n",
      "Computing super-spaces: 24493601201578910000000000000000000000000[nodes:473576].\n",
      "Computing super-spaces: 48958042464000285000000000000000000000000[nodes:473549].\n",
      "Computing super-spaces: 97886924988843040000000000000000000000000[nodes:473499].\n",
      "Computing super-spaces: 195773849977686080000000000000000000000000[nodes:473433].\n",
      "Computing super-spaces: 391547699955372150000000000000000000000000[nodes:473367].\n",
      "Computing super-spaces: 783095399910744300000000000000000000000000[nodes:473329].\n",
      "Computing super-spaces: 1566190799821488600000000000000000000000000[nodes:473247].\n",
      "Computing super-spaces: 3132381599642977000000000000000000000000000[nodes:472789].\n",
      "Computing super-spaces: 6264763199285954000000000000000000000000000[nodes:472805].\n",
      "Computing super-spaces: 12529526398571910000000000000000000000000000[nodes:472307].\n",
      "Computing super-spaces: 25059052797143820000000000000000000000000000[nodes:471891].\n",
      "Computing super-spaces: 50117172476234590000000000000000000000000000[nodes:470967].\n",
      "Computing super-spaces: 100234344952469190000000000000000000000000000[nodes:470327].\n",
      "Computing super-spaces: 200468689904938380000000000000000000000000000[nodes:469379].\n",
      "Computing super-spaces: 400937379809876760000000000000000000000000000[nodes:466415].\n",
      "Computing super-spaces: 801874759619753500000000000000000000000000000[nodes:463113].\n",
      "Computing super-spaces: 1603749519239507000000000000000000000000000000[nodes:460649].\n",
      "Computing super-spaces: 3207499038479014000000000000000000000000000000[nodes:459625].\n",
      "Computing super-spaces: 6414938357402633000000000000000000000000000000[nodes:456101].\n",
      "Computing super-spaces: 12829816995249872000000000000000000000000000000[nodes:452577].\n",
      "Computing super-spaces: 25659633990499745000000000000000000000000000000[nodes:447243].\n",
      "Computing super-spaces: 51319267980999490000000000000000000000000000000[nodes:441909].\n",
      "Computing super-spaces: 102637488572873600000000000000000000000000000000[nodes:436695].\n",
      "Computing super-spaces: 205273929756621800000000000000000000000000000000[nodes:431481].\n",
      "Computing super-spaces: 410546812124118200000000000000000000000000000000[nodes:426267].\n",
      "Computing super-spaces: 820992027503074400000000000000000000000000000000[nodes:421293].\n",
      "Computing super-spaces: 1641882458260986600000000000000000000000000000000[nodes:416319].\n",
      "Computing super-spaces: 3283764916521973000000000000000000000000000000000[nodes:410985].\n",
      "Computing super-spaces: 6567529833043946000000000000000000000000000000000[nodes:407665].\n",
      "Computing super-spaces: 13135059666087893000000000000000000000000000000000[nodes:402635].\n",
      "Computing super-spaces: 26269306558214490000000000000000000000000000000000[nodes:408077].\n",
      "Computing super-spaces: 52537800342467680000000000000000000000000000000000[nodes:418933].\n",
      "Computing super-spaces: 105074787910974060000000000000000000000000000000000[nodes:417357].\n",
      "Computing super-spaces: 210149575821948130000000000000000000000000000000000[nodes:424685].\n",
      "Computing super-spaces: 420299151643896250000000000000000000000000000000000[nodes:519959].\n",
      "Computing super-spaces: 840598303287792500000000000000000000000000000000000[nodes:516959].\n",
      "Computing super-spaces: 1681190104383894600000000000000000000000000000000000[nodes:541771].\n",
      "Computing super-spaces: 3362373706576099000000000000000000000000000000000000[nodes:539127].\n",
      "Computing super-spaces: 6724745201066365000000000000000000000000000000000000[nodes:567455].\n",
      "Computing super-spaces: 13449490335099826000000000000000000000000000000000000[nodes:565059].\n",
      "Computing super-spaces: 26898959152637460000000000000000000000000000000000000[nodes:562751].\n",
      "Computing super-spaces: 53797896787712730000000000000000000000000000000000000[nodes:560443].\n",
      "Computing super-spaces: 107595772057863260000000000000000000000000000000000000[nodes:558135].\n",
      "Computing super-spaces: 215191522598164340000000000000000000000000000000000000[nodes:689805].\n",
      "Computing super-spaces: 430383023678766500000000000000000000000000000000000000[nodes:732981].\n",
      "Computing super-spaces: 860766047290500000000000000000000000000000000000000000[nodes:730615].\n",
      "Computing super-spaces: 1721532094513967200000000000000000000000000000000000000[nodes:882154].\n",
      "Computing super-spaces: 3443064189027934400000000000000000000000000000000000000[nodes:878916].\n",
      "Computing super-spaces: 6886128375042916000000000000000000000000000000000000000[nodes:875750].\n",
      "Computing super-spaces: 13772256747072880000000000000000000000000000000000000000[nodes:872584].\n",
      "Computing super-spaces: 27544513494145760000000000000000000000000000000000000000[nodes:869058].\n",
      "Computing super-spaces: 55089026982265610000000000000000000000000000000000000000[nodes:1090092].\n",
      "Computing super-spaces: 110178053964531230000000000000000000000000000000000000000[nodes:1087452].\n",
      "Computing super-spaces: 220356107929062460000000000000000000000000000000000000000[nodes:1088960].\n",
      "Computing super-spaces: 440712215858124900000000000000000000000000000000000000000[nodes:1087220].\n",
      "Computing super-spaces: 881424431716249800000000000000000000000000000000000000000[nodes:1087288].\n",
      "Computing super-spaces: 1762848863432499700000000000000000000000000000000000000000[nodes:1085032].\n",
      "Computing super-spaces: 3525697726864999000000000000000000000000000000000000000000[nodes:1085904].\n",
      "Computing super-spaces: 7051395280569585000000000000000000000000000000000000000000[nodes:1084272].\n",
      "Computing super-spaces: 14102790561139170000000000000000000000000000000000000000000[nodes:1082400].\n",
      "Computing super-spaces: 28205581122278340000000000000000000000000000000000000000000[nodes:1080528].\n",
      "Computing super-spaces: 56411162244556680000000000000000000000000000000000000000000[nodes:1658664].\n",
      "Computing super-spaces: 112822324489113360000000000000000000000000000000000000000000[nodes:1657268].\n",
      "Computing super-spaces: 225644648978226700000000000000000000000000000000000000000000[nodes:1655872].\n",
      "Computing super-spaces: 451289297956453400000000000000000000000000000000000000000000[nodes:2563401].\n",
      "Computing super-"
     ]
    }
   ],
   "source": [
    "min_traps"
   ]
  },
  {
   "cell_type": "markdown",
   "id": "6f61daf3-13fb-4f3d-8e93-c05a7fdf6cf2",
   "metadata": {},
   "source": [
    "Compute the number of output value combinations that can actually appear in the model, and the distribution of output values within these combinations."
   ]
  },
  {
   "cell_type": "code",
   "execution_count": 29,
   "id": "7d3427d9-33ac-4e58-ac8f-82baaa8b4dd4",
   "metadata": {},
   "outputs": [
    {
     "name": "stdout",
     "output_type": "stream",
     "text": [
      "Phenotypes: 84\n"
     ]
    }
   ],
   "source": [
    "phenotype_iterator = min_traps.spaces().items(retained = outputs)\n",
    "phenotype_count = sum(1 for _ in phenotype_iterator)\n",
    "print(f\"Phenotypes: {phenotype_count}\")"
   ]
  },
  {
   "cell_type": "code",
   "execution_count": 30,
   "id": "2e17f78f-01e6-4796-8a28-a3ad0a8ceea0",
   "metadata": {},
   "outputs": [
    {
     "name": "stdout",
     "output_type": "stream",
     "text": [
      "Zero: {'Ca2_slash_DAG_RASGRP1_RAS_C_RAF_complex': 52, 'Elk1_phosphorylated': 20, 'Jun_Fos_complex': 52, 'NFAT_nucleus': 26, 'NF_kappa_B_nucleus': 36, 'PIP3_Akt_complex': 42}\n",
      "One: {'Ca2_slash_DAG_RASGRP1_RAS_C_RAF_complex': 20, 'Elk1_phosphorylated': 24, 'Jun_Fos_complex': 12, 'NFAT_nucleus': 58, 'NF_kappa_B_nucleus': 30, 'PIP3_Akt_complex': 42}\n",
      "Any: {'Ca2_slash_DAG_RASGRP1_RAS_C_RAF_complex': 12, 'Elk1_phosphorylated': 40, 'Jun_Fos_complex': 20, 'NFAT_nucleus': 0, 'NF_kappa_B_nucleus': 18, 'PIP3_Akt_complex': 0}\n"
     ]
    }
   ],
   "source": [
    "is_zero = { var: 0 for var in outputs }\n",
    "is_one = { var: 0 for var in outputs }\n",
    "is_any = { var: 0 for var in outputs }\n",
    "for phenotype in min_traps.spaces().items(retained = outputs):\n",
    "    phenotype_traps = min_traps.intersect_spaces(phenotype.to_symbolic())\n",
    "    for (var, value) in phenotype.items():        \n",
    "        var = ctx.get_network_variable_name(var)\n",
    "        if value == True:\n",
    "            is_one[var] += 1\n",
    "        elif value == False:\n",
    "            is_zero[var] += 1\n",
    "        else:\n",
    "            is_any[var] += 1\n",
    "\n",
    "print(\"Zero:\", is_zero)\n",
    "print(\"One:\", is_one)\n",
    "print(\"Any:\", is_any)"
   ]
  },
  {
   "cell_type": "code",
   "execution_count": 31,
   "id": "09e62fbe-432f-4e8f-a604-effe7e4e450c",
   "metadata": {},
   "outputs": [],
   "source": [
    "def cardinality_without_inputs(ctx, inputs, set):\n",
    "    # Project the BDD to remove inputs.\n",
    "    set_bdd = set.to_bdd()\n",
    "    ignore_vars = [ ctx.get_function_table(i)[0][1] for i in inputs ]\n",
    "    set_bdd = set_bdd.r_exists(ignore_vars)\n",
    "\n",
    "    all_vars = ctx.bdd_variable_set().variable_count()\n",
    "    function_vars = sum(len(x) for x in ctx.explicit_functions_bdd_variables().values())\n",
    "\n",
    "    general_cardinality = set_bdd.cardinality()\n",
    "    return int(general_cardinality / (2 ** (all_vars - function_vars)))\n",
    "\n",
    "def prune_inputs(ctx, inputs, set):\n",
    "    set_bdd = set.to_bdd()\n",
    "    ignore_vars = [ ctx.get_function_table(i)[0][1] for i in inputs ]\n",
    "    set_bdd = set_bdd.r_exists(ignore_vars)\n",
    "\n",
    "    return ColorSet(ctx, set_bdd)\n",
    "\n",
    "def prune_inputs_forall(ctx, inputs, set):\n",
    "    set_bdd = set.to_bdd()\n",
    "    ignore_vars = [ ctx.get_function_table(i)[0][1] for i in inputs ]\n",
    "    set_bdd = set_bdd.r_for_all(ignore_vars)\n",
    "\n",
    "    return ColorSet(ctx, set_bdd)"
   ]
  },
  {
   "cell_type": "markdown",
   "id": "a6d0a1b2-5244-47e2-8306-4e9b337eed53",
   "metadata": {},
   "source": [
    "Build a table showing the multiplicity of various attractor combinations for each output variable:"
   ]
  },
  {
   "cell_type": "code",
   "execution_count": 32,
   "id": "bd094df4-428f-4e14-ad84-5d07a3901d1c",
   "metadata": {},
   "outputs": [
    {
     "name": "stdout",
     "output_type": "stream",
     "text": [
      "0\t1\t*\t0-1\t1-*\t0-*\t0-1-*\tname\n",
      "76880019456\t207618048\t7077888\t207618048\t0\t7077888\t0\tCa2_slash_DAG_RASGRP1_RAS_C_RAF_complex\n",
      "76910952448\t351272960\t47185920\t0\t0\t0\t0\tElk1_phosphorylated\n",
      "77224476672\t56623104\t28311552\t0\t0\t0\t0\tJun_Fos_complex\n",
      "0\t38654705664\t0\t38654705664\t0\t0\t0\tNFAT_nucleus\n",
      "75591843840\t1703411712\t14155776\t0\t0\t0\t0\tNF_kappa_B_nucleus\n",
      "75723964416\t1585446912\t0\t0\t0\t0\t0\tPIP3_Akt_complex\n"
     ]
    }
   ],
   "source": [
    "print(f\"0\\t1\\t*\\t0-1\\t1-*\\t0-*\\t0-1-*\\tname\")\n",
    "\n",
    "for var in outputs:\n",
    "    p_var = ctx.get_positive_space_variable(var)\n",
    "    n_var = ctx.get_negative_space_variable(var)\n",
    "    var_is_one = SpaceSet(ctx, ctx.bdd_variable_set().mk_conjunctive_clause({ p_var: True, n_var: False }))\n",
    "    var_is_zero = SpaceSet(ctx, ctx.bdd_variable_set().mk_conjunctive_clause({ p_var: False, n_var: True }))\n",
    "    var_is_any = SpaceSet(ctx, ctx.bdd_variable_set().mk_conjunctive_clause({ p_var: True, n_var: True }))\n",
    "\n",
    "    one_colors = min_traps.intersect_spaces(var_is_one).colors()\n",
    "    zero_colors = min_traps.intersect_spaces(var_is_zero).colors()\n",
    "    any_colors = min_traps.intersect_spaces(var_is_any).colors()\n",
    "\n",
    "    # one_colors = prune_inputs(ctx, inputs, one_colors)\n",
    "    # zero_colors = prune_inputs(ctx, inputs, zero_colors)\n",
    "    # any_colors = prune_inputs(ctx, inputs, any_colors)\n",
    "\n",
    "    one = one_colors.minus(zero_colors).minus(any_colors)\n",
    "    zero = zero_colors.minus(one_colors).minus(any_colors)\n",
    "    any = any_colors.minus(zero_colors).minus(one_colors)\n",
    "    zero_one = one_colors.intersect(zero_colors).minus(any_colors)\n",
    "    one_any = one_colors.intersect(any_colors).minus(zero_colors)\n",
    "    zero_any = zero_colors.intersect(any_colors).minus(one_colors)\n",
    "    zero_one_any = zero_colors.intersect(one_colors).intersect(any_colors)\n",
    "    \n",
    "    # c_one = cardinality_without_inputs(ctx, inputs, one)\n",
    "    # c_zero = cardinality_without_inputs(ctx, inputs, zero)\n",
    "    # c_any = cardinality_without_inputs(ctx, inputs, any)\n",
    "    # c_zero_one = cardinality_without_inputs(ctx, inputs, zero_one)\n",
    "    # c_one_any = cardinality_without_inputs(ctx, inputs, one_any)\n",
    "    # c_zero_any = cardinality_without_inputs(ctx, inputs, zero_any)\n",
    "    # c_zero_one_any = cardinality_without_inputs(ctx, inputs, zero_one_any)\n",
    "\n",
    "    c_one = one.cardinality()\n",
    "    c_zero = zero.cardinality()\n",
    "    c_any = any.cardinality()\n",
    "    c_zero_one = zero_one.cardinality()\n",
    "    c_one_any = one_any.cardinality()\n",
    "    c_zero_any = zero_any.cardinality()\n",
    "    c_zero_one_any = zero_one_any.cardinality()\n",
    "\n",
    "    print(f\"{c_zero}\\t{c_one}\\t{c_any}\\t{c_zero_one}\\t{c_one_any}\\t{c_zero_any}\\t{c_zero_one_any}\\t{var}\")    "
   ]
  },
  {
   "cell_type": "markdown",
   "id": "bcf8687f-24ef-4d6e-9d52-109eb6fed136",
   "metadata": {},
   "source": [
    "Finally, let us compare the partial network to the original CaSQ network:"
   ]
  },
  {
   "cell_type": "code",
   "execution_count": 33,
   "id": "d257c045-e8bd-48bc-97d1-4004baab0c40",
   "metadata": {},
   "outputs": [
    {
     "name": "stdout",
     "output_type": "stream",
     "text": [
      "BooleanNetwork(variables=91, regulations=124, explicit_parameters=0, implicit_parameters=22)\n"
     ]
    }
   ],
   "source": [
    "model_known = BooleanNetwork.from_file(\"model_map1.full.aeon\")\n",
    "print(model_known)"
   ]
  },
  {
   "cell_type": "code",
   "execution_count": 34,
   "id": "1ca1341f-458f-403c-866e-e78c82e448b2",
   "metadata": {},
   "outputs": [],
   "source": [
    "ctx_known = SymbolicSpaceContext(model_known)\n",
    "stg_known = AsynchronousGraph(model_known, ctx_known)"
   ]
  },
  {
   "cell_type": "code",
   "execution_count": 35,
   "id": "6f2323c4-b226-458c-8d9e-12b4efb9f556",
   "metadata": {},
   "outputs": [
    {
     "name": "stdout",
     "output_type": "stream",
     "text": [
      "Start symbolic essential trap space search with 109823197516453700000000000000000000000000000000000[nodes:184] candidates.\n",
      " > Merge. New result has 109532 BDD nodes. Remaining constraints: 3.\n",
      " > Merge. New result has 130676 BDD nodes. Remaining constraints: 2.\n",
      " > Merge. New result has 152921 BDD nodes. Remaining constraints: 1.\n",
      " > Merge. New result has 317507 BDD nodes. Remaining constraints: 0.\n",
      "Merge finished with 317507 BDD nodes.\n",
      "Found 4194304x24182784[nodes:317507] essential trap spaces.\n"
     ]
    }
   ],
   "source": [
    "traps_known = TrapSpaces.essential_symbolic(ctx_known, stg_known, ctx_known.mk_unit_colored_spaces(stg_known))"
   ]
  },
  {
   "cell_type": "code",
   "execution_count": 36,
   "id": "9b35fdd3-6a91-493e-950b-598216493a60",
   "metadata": {},
   "outputs": [
    {
     "name": "stdout",
     "output_type": "stream",
     "text": [
      "Start minimal subspace search with 4194304x24182784[nodes:317507] candidates.\n",
      "Computing super-spaces: 20766652132938854000000000000000000[nodes:213005].\n",
      "Computing super-spaces: 41530768964677250000000000000000000[nodes:213003].\n",
      "Computing super-spaces: 83061537929354500000000000000000000[nodes:212999].\n",
      "Computing super-spaces: 166123075858709000000000000000000000[nodes:212996].\n",
      "Computing super-spaces: 332246151717418000000000000000000000[nodes:212990].\n",
      "Computing super-spaces: 664492303434836000000000000000000000[nodes:212983].\n",
      "Computing super-spaces: 1328984606869672000000000000000000000[nodes:212971].\n",
      "Computing super-spaces: 2656914528439954200000000000000000000[nodes:212949].\n",
      "Computing super-spaces: 5312774371580518600000000000000000000[nodes:212919].\n",
      "Computing super-spaces: 10625548743161037000000000000000000000[nodes:212885].\n",
      "Computing super-spaces: 21251097486322074000000000000000000000[nodes:212851].\n",
      "Computing super-spaces: 42502194972644150000000000000000000000[nodes:212833].\n",
      "Computing super-spaces: 85004389945288300000000000000000000000[nodes:212791].\n",
      "Computing super-spaces: 170008779890576600000000000000000000000[nodes:212545].\n",
      "Computing super-spaces: 340017559781153200000000000000000000000[nodes:212565].\n",
      "Computing super-spaces: 680035119562306400000000000000000000000[nodes:212282].\n",
      "Computing super-spaces: 1360070239124612700000000000000000000000[nodes:212041].\n",
      "Computing super-spaces: 2720140478249225500000000000000000000000[nodes:211546].\n",
      "Computing super-spaces: 5440280956498451000000000000000000000000[nodes:211194].\n",
      "Computing super-spaces: 10880561912996902000000000000000000000000[nodes:210699].\n",
      "Computing super-spaces: 21761123825993804000000000000000000000000[nodes:209122].\n",
      "Computing super-spaces: 43522247651987610000000000000000000000000[nodes:207299].\n",
      "Computing super-spaces: 87044495303975220000000000000000000000000[nodes:206028].\n",
      "Computing super-spaces: 174088990607950430000000000000000000000000[nodes:205458].\n",
      "Computing super-spaces: 348177981215900860000000000000000000000000[nodes:203749].\n",
      "Computing super-spaces: 696355962431801700000000000000000000000000[nodes:202040].\n",
      "Computing super-spaces: 1392711924863603500000000000000000000000000[nodes:198866].\n",
      "Computing super-spaces: 2785423849727207000000000000000000000000000[nodes:195692].\n",
      "Computing super-spaces: 5570805164158549000000000000000000000000000[nodes:192594].\n",
      "Computing super-spaces: 11141567793021232000000000000000000000000000[nodes:189496].\n",
      "Computing super-spaces: 22283093050746600000000000000000000000000000[nodes:186398].\n",
      "Computing super-spaces: 44562060177794283000000000000000000000000000[nodes:183440].\n",
      "Computing super-spaces: 89119994431889650000000000000000000000000000[nodes:180482].\n",
      "Computing super-spaces: 178239988863779300000000000000000000000000000[nodes:177296].\n",
      "Computing super-spaces: 356479977727558600000000000000000000000000000[nodes:174110].\n",
      "Computing super-spaces: 712959955455117200000000000000000000000000000[nodes:170924].\n",
      "Computing super-spaces: 1425886903520643000000000000000000000000000000[nodes:167294].\n",
      "Computing super-spaces: 2851740799651694800000000000000000000000000000[nodes:163664].\n",
      "Computing super-spaces: 5703448591913798000000000000000000000000000000[nodes:160706].\n",
      "Computing super-spaces: 11406897183827596000000000000000000000000000000[nodes:164200].\n",
      "Computing super-spaces: 22813794367655193000000000000000000000000000000[nodes:198818].\n",
      "Computing super-spaces: 45627588735310386000000000000000000000000000000[nodes:196780].\n",
      "Computing super-spaces: 91254913411504040000000000000000000000000000000[nodes:201686].\n",
      "Computing super-spaces: 182509562763891350000000000000000000000000000000[nodes:199860].\n",
      "Computing super-spaces: 365019035693237830000000000000000000000000000000[nodes:218059].\n",
      "Computing super-spaces: 730038068664216700000000000000000000000000000000[nodes:216523].\n",
      "Computing super-spaces: 1460075263483315200000000000000000000000000000000[nodes:215039].\n",
      "Computing super-spaces: 2920149653121512200000000000000000000000000000000[nodes:213555].\n",
      "Computing super-spaces: 5840298432397906000000000000000000000000000000000[nodes:212071].\n",
      "Computing super-spaces: 11680595990950694000000000000000000000000000000000[nodes:267895].\n",
      "Computing super-spaces: 23361191108056270000000000000000000000000000000000[nodes:266687].\n",
      "Computing super-spaces: 46722382213390280000000000000000000000000000000000[nodes:265423].\n",
      "Computing super-spaces: 93444764424058300000000000000000000000000000000000[nodes:271519].\n",
      "Computing super-spaces: 186889528848116600000000000000000000000000000000000[nodes:270311].\n",
      "Computing super-spaces: 373779057696233200000000000000000000000000000000000[nodes:269103].\n",
      "Computing super-spaces: 747558115392466400000000000000000000000000000000000[nodes:267895].\n",
      "Computing super-spaces: 1495116230784932800000000000000000000000000000000000[nodes:266687].\n",
      "Computing super-spaces: 2990232461569865600000000000000000000000000000000000[nodes:355142].\n",
      "Computing super-spaces: 5980464923139731000000000000000000000000000000000000[nodes:354188].\n",
      "Computing super-spaces: 11960929846279463000000000000000000000000000000000000[nodes:354882].\n",
      "Computing super-spaces: 23921859692558925000000000000000000000000000000000000[nodes:354289].\n",
      "Computing super-spaces: 47843719385117850000000000000000000000000000000000000[nodes:354254].\n",
      "Computing super-spaces: 95687438770235700000000000000000000000000000000000000[nodes:353455].\n",
      "Computing super-spaces: 191374877540471400000000000000000000000000000000000000[nodes:353713].\n",
      "Computing super-spaces: 382749747939129150000000000000000000000000000000000000[nodes:353095].\n",
      "Computing super-spaces: 765499495878258300000000000000000000000000000000000000[nodes:352437].\n",
      "Computing super-spaces: 1530998991756516600000000000000000000000000000000000000[nodes:351779].\n",
      "Computing super-spaces: 3061997983513033200000000000000000000000000000000000000[nodes:470292].\n",
      "Computing super-spaces: 6123995967026066500000000000000000000000000000000000000[nodes:469834].\n",
      "Computing super-spaces: 12247991934052133000000000000000000000000000000000000000[nodes:469374].\n",
      "Computing super-spaces: 24495983868104266000000000000000000000000000000000000000[nodes:768283].\n",
      "Computing super-spaces: 48991967279132460000000000000000000000000000000000000000[nodes:866560].\n",
      "Computing super-spaces: 97983934101188840000000000000000000000000000000000000000[nodes:1539630].\n",
      "Computing super-spaces: 195967868202377680000000000000000000000000000000000000000[nodes:1539694].\n",
      "Computing super-spaces: 391935736404755370000000000000000000000000000000000000000[nodes:2050660].\n",
      "Computing super-spaces: 783871472809510700000000000000000000000000000000000000000[nodes:2701659].\n",
      "Computing super-spaces: 1567742945619021500000000000000000000000000000000000000000[nodes:2701588].\n",
      "Computing super-spaces: 3135485891238043000000000000000000000000000000000000000000[nodes:2701538].\n",
      "Computing super-spaces: 6270971782476086000000000000000000000000000000000000000000[nodes:3344148].\n",
      "Computing super-spaces: 12541943564952172000000000000000000000000000000000000000000[nodes:3353665].\n",
      "Computing super-spaces: 25083887129904344000000000000000000000000000000000000000000[nodes:3353640].\n",
      "Computing super-spaces: 50167774259808690000000000000000000000000000000000000000000[nodes:3353615].\n",
      "Computing super-spaces: 100335548519617370000000000000000000000000000000000000000000[nodes:3517280].\n",
      "Computing super-spaces: 200671097039234750000000000000000000000000000000000000000000[nodes:4151413].\n",
      "Computing super-spaces: 401342194078469500000000000000000000000000000000000000000000[nodes:4714479].\n",
      "Computing super-spaces: 802684388156939000000000000000000000000000000000000000000000[nodes:4714463].\n",
      "Computing super-spaces: 1605368776313878000000000000000000000000000000000000000000000[nodes:4714471].\n",
      "Computing super-spaces: 3210737552627756000000000000000000000000000000000000000000000[nodes:4914539].\n",
      "Computing super-spaces: 6421475105255512000000000000000000000000000000000000000000000[nodes:4914542].\n",
      "Computing super-spaces: 12842950210511024000000000000000000000000000000000000000000000[nodes:4914544].\n",
      "Computing super-spaces: 25685900421022048000000000000000000000000000000000000000000000[nodes:4914545].\n",
      "Minimization in progress: 4194304x11927552[nodes:179905] unprocessed, 4194304x4194304[nodes:213007] candidates.\n",
      "Computing super-spaces: 20766652132938854000000000000000000[nodes:156822].\n",
      "Computing super-spaces: 41530768964677250000000000000000000[nodes:156820].\n",
      "Computing super-spaces: 83061537929354500000000000000000000[nodes:156816].\n",
      "Computing super-spaces: 166123075858709000000000000000000000[nodes:156813].\n",
      "Computing super-spaces: 332246151717418000000000000000000000[nodes:156807].\n",
      "Computing super-spaces: 664492303434836000000000000000000000[nodes:156800].\n",
      "Computing super-spaces: 1328984606869672000000000000000000000[nodes:156788].\n",
      "Computing super-spaces: 2656914528439954200000000000000000000[nodes:156766].\n",
      "Computing super-spaces: 5312774371580518600000000000000000000[nodes:156736].\n",
      "Computing super-spaces: 10625548743161037000000000000000000000[nodes:156702].\n",
      "Computing super-spaces: 21251097486322074000000000000000000000[nodes:156668].\n",
      "Computing super-spaces: 42502194972644150000000000000000000000[nodes:156650].\n",
      "Computing super-spaces: 85004389945288300000000000000000000000[nodes:156608].\n",
      "Computing super-spaces: 170008779890576600000000000000000000000[nodes:156362].\n",
      "Computing super-spaces: 340017559781153200000000000000000000000[nodes:156382].\n",
      "Computing super-spaces: 680035119562306400000000000000000000000[nodes:156099].\n",
      "Computing super-spaces: 1360070239124612700000000000000000000000[nodes:155858].\n",
      "Computing super-spaces: 2720140478249225500000000000000000000000[nodes:155363].\n",
      "Computing super-spaces: 5440280956498451000000000000000000000000[nodes:155011].\n",
      "Computing super-spaces: 10880561912996902000000000000000000000000[nodes:154516].\n",
      "Computing super-spaces: 21761123825993804000000000000000000000000[nodes:152939].\n",
      "Computing super-spaces: 43522247651987610000000000000000000000000[nodes:151116].\n",
      "Computing super-spaces: 87044495303975220000000000000000000000000[nodes:149845].\n",
      "Computing super-spaces: 174088990607950430000000000000000000000000[nodes:149275].\n",
      "Computing super-spaces: 348177981215900860000000000000000000000000[nodes:147566].\n",
      "Computing super-spaces: 696355962431801700000000000000000000000000[nodes:145857].\n",
      "Computing super-spaces: 1392711924863603500000000000000000000000000[nodes:143743].\n",
      "Computing super-spaces: 2785423849727207000000000000000000000000000[nodes:141629].\n",
      "Computing super-spaces: 5570805164158549000000000000000000000000000[nodes:139559].\n",
      "Computing super-spaces: 11141567793021232000000000000000000000000000[nodes:137489].\n",
      "Computing super-spaces: 22283093050746600000000000000000000000000000[nodes:135419].\n",
      "Computing super-spaces: 44562060177794283000000000000000000000000000[nodes:133425].\n",
      "Computing super-spaces: 89119994431889650000000000000000000000000000[nodes:131431].\n",
      "Computing super-spaces: 178239988863779300000000000000000000000000000[nodes:129305].\n",
      "Computing super-spaces: 356479977727558600000000000000000000000000000[nodes:127179].\n",
      "Computing super-spaces: 712959955455117200000000000000000000000000000[nodes:125053].\n",
      "Computing super-spaces: 1425886903520643000000000000000000000000000000[nodes:122599].\n",
      "Computing super-spaces: 2851740799651694800000000000000000000000000000[nodes:120145].\n",
      "Computing super-spaces: 5703448591913798000000000000000000000000000000[nodes:118147].\n",
      "Computing super-spaces: 11406897183827596000000000000000000000000000000[nodes:120521].\n",
      "Computing super-spaces: 22813794367655193000000000000000000000000000000[nodes:144767].\n",
      "Computing super-spaces: 45627588735310386000000000000000000000000000000[nodes:143417].\n",
      "Computing super-spaces: 91254913411504040000000000000000000000000000000[nodes:148939].\n",
      "Computing super-spaces: 182509562763891350000000000000000000000000000000[nodes:147729].\n",
      "Computing super-spaces: 365019035693237830000000000000000000000000000000[nodes:160148].\n",
      "Computing super-spaces: 730038068664216700000000000000000000000000000000[nodes:159112].\n",
      "Computing super-spaces: 1460075263483315200000000000000000000000000000000[nodes:158104].\n",
      "Computing super-spaces: 2920149653121512200000000000000000000000000000000[nodes:157096].\n",
      "Computing super-spaces: 5840298432397906000000000000000000000000000000000[nodes:156088].\n",
      "Computing super-spaces: 11680595990950694000000000000000000000000000000000[nodes:197472].\n",
      "Computing super-spaces: 23361191108056270000000000000000000000000000000000[nodes:196652].\n",
      "Computing super-spaces: 46722382213390280000000000000000000000000000000000[nodes:195800].\n",
      "Computing super-spaces: 93444764424058300000000000000000000000000000000000[nodes:199556].\n",
      "Computing super-spaces: 186889528848116600000000000000000000000000000000000[nodes:198736].\n",
      "Computing super-spaces: 373779057696233200000000000000000000000000000000000[nodes:197916].\n",
      "Computing super-spaces: 747558115392466400000000000000000000000000000000000[nodes:197096].\n",
      "Computing super-spaces: 1495116230784932800000000000000000000000000000000000[nodes:196276].\n",
      "Computing super-spaces: 2990232461569865600000000000000000000000000000000000[nodes:251825].\n",
      "Computing super-spaces: 5980464923139731000000000000000000000000000000000000[nodes:251119].\n",
      "Computing super-spaces: 11960929846279463000000000000000000000000000000000000[nodes:251549].\n",
      "Computing super-spaces: 23921859692558925000000000000000000000000000000000000[nodes:251094].\n",
      "Computing super-spaces: 47843719385117850000000000000000000000000000000000000[nodes:251083].\n",
      "Computing super-spaces: 95687438770235700000000000000000000000000000000000000[nodes:250478].\n",
      "Computing super-spaces: 191374877540471400000000000000000000000000000000000000[nodes:250670].\n",
      "Computing super-spaces: 382749747939129150000000000000000000000000000000000000[nodes:250194].\n",
      "Computing super-spaces: 765499495878258300000000000000000000000000000000000000[nodes:249694].\n",
      "Computing super-spaces: 1530998991756516600000000000000000000000000000000000000[nodes:249194].\n",
      "Computing super-spaces: 3061997983513033200000000000000000000000000000000000000[nodes:335271].\n",
      "Computing super-spaces: 6123995967026066500000000000000000000000000000000000000[nodes:334931].\n",
      "Computing super-spaces: 12247991934052133000000000000000000000000000000000000000[nodes:334589].\n",
      "Computing super-spaces: 24495983868104266000000000000000000000000000000000000000[nodes:542586].\n",
      "Computing super-spaces: 48991967279132460000000000000000000000000000000000000000[nodes:589455].\n",
      "Computing super-spaces: 97983934101188840000000000000000000000000000000000000000[nodes:983767].\n",
      "Computing super-spaces: 195967868202377680000000000000000000000000000000000000000[nodes:983819].\n",
      "Computing super-spaces: 391935736404755370000000000000000000000000000000000000000[nodes:983739].\n",
      "Computing super-spaces: 783871472809510700000000000000000000000000000000000000000[nodes:983659].\n",
      "Computing super-spaces: 1567742945619021500000000000000000000000000000000000000000[nodes:983579].\n",
      "Computing super-spaces: 3135485891238043000000000000000000000000000000000000000000[nodes:983523].\n",
      "Computing super-spaces: 6270971782476086000000000000000000000000000000000000000000[nodes:1235778].\n",
      "Computing super-spaces: 12541943564952172000000000000000000000000000000000000000000[nodes:1240756].\n",
      "Computing super-spaces: 25083887129904344000000000000000000000000000000000000000000[nodes:1240728].\n",
      "Computing super-spaces: 50167774259808690000000000000000000000000000000000000000000[nodes:1608392].\n",
      "Computing super-spaces: 100335548519617370000000000000000000000000000000000000000000[nodes:1842320].\n",
      "Computing super-spaces: 200671097039234750000000000000000000000000000000000000000000[nodes:2504548].\n",
      "Computing super-spaces: 401342194078469500000000000000000000000000000000000000000000[nodes:3275628].\n",
      "Computing super-spaces: 802684388156939000000000000000000000000000000000000000000000[nodes:4005542].\n",
      "Computing super-spaces: 1605368776313878000000000000000000000000000000000000000000000[nodes:4005550].\n",
      "Computing super-spaces: 3210737552627756000000000000000000000000000000000000000000000[nodes:4232040].\n",
      "Computing super-spaces: 6421475105255512000000000000000000000000000000000000000000000[nodes:4232043].\n",
      "Computing super-spaces: 12842950210511024000000000000000000000000000000000000000000000[nodes:4232045].\n",
      "Computing super-spaces: 25685900421022048000000000000000000000000000000000000000000000[nodes:4232046].\n",
      "Minimization in progress: 3866624x3866624[nodes:34501] unprocessed, 4194304x8388608[nodes:213477] candidates.\n",
      "Computing super-spaces: 22592336834896883000000000000000000000000000000000000000[nodes:107736].\n",
      "Computing super-spaces: 45184673441255730000000000000000000000000000000000000000[nodes:114384].\n",
      "Computing super-spaces: 90369346653973420000000000000000000000000000000000000000[nodes:182138].\n",
      "Computing super-spaces: 180738693307946840000000000000000000000000000000000000000[nodes:182152].\n",
      "Computing super-spaces: 361477386615893700000000000000000000000000000000000000000[nodes:182130].\n",
      "Computing super-spaces: 722954773231787400000000000000000000000000000000000000000[nodes:182108].\n",
      "Computing super-spaces: 1445909546463574700000000000000000000000000000000000000000[nodes:182086].\n",
      "Computing super-spaces: 2891819092927149500000000000000000000000000000000000000000[nodes:182070].\n",
      "Computing super-spaces: 5783638185854299000000000000000000000000000000000000000000[nodes:226515].\n",
      "Computing super-spaces: 11567276371708598000000000000000000000000000000000000000000[nodes:227706].\n",
      "Computing super-spaces: 23134552743417196000000000000000000000000000000000000000000[nodes:227698].\n",
      "Computing super-spaces: 46269105486834390000000000000000000000000000000000000000000[nodes:227690].\n",
      "Computing super-spaces: 92538210973668780000000000000000000000000000000000000000000[nodes:227682].\n",
      "Computing super-spaces: 185076421947337570000000000000000000000000000000000000000000[nodes:227674].\n",
      "Computing super-spaces: 370152843894675130000000000000000000000000000000000000000000[nodes:227666].\n",
      "Computing super-spaces: 740305687789350300000000000000000000000000000000000000000000[nodes:227658].\n",
      "Computing super-spaces: 1480611375578700500000000000000000000000000000000000000000000[nodes:227658].\n",
      "Computing super-spaces: 2961222751157401000000000000000000000000000000000000000000000[nodes:250566].\n",
      "Computing super-spaces: 5922445502314802000000000000000000000000000000000000000000000[nodes:250569].\n",
      "Computing super-spaces: 11844891004629604000000000000000000000000000000000000000000000[nodes:250571].\n",
      "Computing super-spaces: 23689782009259208000000000000000000000000000000000000000000000[nodes:250572].\n",
      "Minimization in progress: 0x0[nodes:1] unprocessed, 4194304x12255232[nodes:217994] candidates.\n",
      "Found 12255232[nodes:217994] minimal spaces.\n"
     ]
    }
   ],
   "source": [
    "min_traps_known = TrapSpaces.minimize(ctx_known, traps_known)"
   ]
  },
  {
   "cell_type": "code",
   "execution_count": 37,
   "id": "0e9b6ce6-7a4d-465a-b7ad-583f99cfcc56",
   "metadata": {},
   "outputs": [],
   "source": [
    "min_traps_transferred = ColoredSpaceSet(ctx, ctx.transfer_from(min_traps_known.to_bdd(), ctx_known))"
   ]
  },
  {
   "cell_type": "code",
   "execution_count": 38,
   "id": "db06f43b-632a-4b20-9370-444315b7912c",
   "metadata": {},
   "outputs": [
    {
     "name": "stdout",
     "output_type": "stream",
     "text": [
      "All models: 18432\n",
      "Equivalent models: 128\n"
     ]
    }
   ],
   "source": [
    "equivalent = prune_inputs_forall(ctx, inputs, min_traps.intersect(min_traps_transferred).colors())\n",
    "print(\"All models:\", cardinality_without_inputs(ctx, inputs, stg.mk_unit_colors()))\n",
    "print(\"Equivalent models:\", cardinality_without_inputs(ctx, inputs, equivalent))"
   ]
  },
  {
   "cell_type": "markdown",
   "id": "ab383b28-574d-433e-9b71-cfe6c1d53986",
   "metadata": {},
   "source": [
    "Let's examine which funtions are fixed/free in the 128 equivalent models:"
   ]
  },
  {
   "cell_type": "code",
   "execution_count": 39,
   "id": "d44bffb0-dba9-49d1-a396-6e7f8f8e7e52",
   "metadata": {},
   "outputs": [
    {
     "name": "stdout",
     "output_type": "stream",
     "text": [
      "cat_PIP3_Akt_complex_8\n",
      " >  ColorModel({'cat_PIP3_Akt_complex_8': 'x_0'})\n",
      "1/2\n",
      "cat_LAT2_phosphorylated_palmytoylated_47\n",
      " >  ColorModel({'cat_LAT2_phosphorylated_palmytoylated_47': '((!x_0 & x_1) | x_0)'})\n",
      "1/2\n",
      "cat_SOS_Grb2_complex_5\n",
      " >  ColorModel({'cat_SOS_Grb2_complex_5': 'x_0'})\n",
      "1/2\n",
      "cat_IP3_simple_molecule_57\n",
      " >  ColorModel({'cat_IP3_simple_molecule_57': '(x_0 & x_1)'})\n",
      " >  ColorModel({'cat_IP3_simple_molecule_57': '((!x_0 & x_1) | x_0)'})\n",
      "2/2\n",
      "cat_DAG_simple_molecule_65\n",
      " >  ColorModel({'cat_DAG_simple_molecule_65': '((!x_0 & x_1) | x_0)'})\n",
      "1/2\n",
      "cat_Calmodulin_Calcineurin_complex_19\n",
      " >  ColorModel({'cat_Calmodulin_Calcineurin_complex_19': '(x_0 & x_1)'})\n",
      " >  ColorModel({'cat_Calmodulin_Calcineurin_complex_19': 'x_0'})\n",
      " >  ColorModel({'cat_Calmodulin_Calcineurin_complex_19': 'x_1'})\n",
      " >  ColorModel({'cat_Calmodulin_Calcineurin_complex_19': '((!x_0 & x_1) | x_0)'})\n",
      "4/4\n",
      "cat_Erk_MAPK1_3__phosphorylated_49\n",
      " >  ColorModel({'cat_Erk_MAPK1_3__phosphorylated_49': '(x_0 & x_1)'})\n",
      " >  ColorModel({'cat_Erk_MAPK1_3__phosphorylated_49': '((!x_0 & x_1) | x_0)'})\n",
      "2/2\n",
      "cat_Shc_phosphorylated_56\n",
      " >  ColorModel({'cat_Shc_phosphorylated_56': '((!x_0 & x_1) | x_0)'})\n",
      "1/2\n",
      "cat_Elk1_phosphorylated_53\n",
      " >  ColorModel({'cat_Elk1_phosphorylated_53': '((!x_0 & (x_1 & x_2)) | x_0)'})\n",
      " >  ColorModel({'cat_Elk1_phosphorylated_53': '((!x_0 & (!x_1 & x_2)) | ((!x_0 & x_1) | x_0))'})\n",
      "2/9\n",
      "cat_FceRI_Syk_complex_Cytosol_1_24\n",
      " >  ColorModel({'cat_FceRI_Syk_complex_Cytosol_1_24': 'x_0'})\n",
      " >  ColorModel({'cat_FceRI_Syk_complex_Cytosol_1_24': 'true'})\n",
      "2/2\n",
      "cat_JNK_phosphorylated_70\n",
      " >  ColorModel({'cat_JNK_phosphorylated_70': '(x_0 & x_1)'})\n",
      " >  ColorModel({'cat_JNK_phosphorylated_70': '((!x_0 & x_1) | x_0)'})\n",
      "2/2\n"
     ]
    }
   ],
   "source": [
    "for param in model_simplified.explicit_parameters():\n",
    "    print(model_simplified.get_explicit_parameter_name(param))\n",
    "    count = 0\n",
    "    for m in equivalent.items(retained=[param]):\n",
    "        print(\" > \", m)\n",
    "        count += 1\n",
    "        if count == 100:\n",
    "            break\n",
    "    total = 0\n",
    "    for m in stg.mk_unit_colors().items(retained=[param]):\n",
    "        total += 1\n",
    "    print(f\"{count}/{total}\")"
   ]
  },
  {
   "cell_type": "code",
   "execution_count": null,
   "id": "41de697b-a37c-496f-8ef7-23e6af45b93f",
   "metadata": {},
   "outputs": [],
   "source": []
  },
  {
   "cell_type": "code",
   "execution_count": null,
   "id": "cf90bea3-eb8c-4777-b905-71c516a2b919",
   "metadata": {},
   "outputs": [],
   "source": []
  }
 ],
 "metadata": {
  "kernelspec": {
   "display_name": "Python 3 (ipykernel)",
   "language": "python",
   "name": "python3"
  },
  "language_info": {
   "codemirror_mode": {
    "name": "ipython",
    "version": 3
   },
   "file_extension": ".py",
   "mimetype": "text/x-python",
   "name": "python",
   "nbconvert_exporter": "python",
   "pygments_lexer": "ipython3",
   "version": "3.12.3"
  }
 },
 "nbformat": 4,
 "nbformat_minor": 5
}
