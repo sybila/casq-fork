{
 "cells": [
  {
   "cell_type": "code",
   "id": "4ee68f69-12dc-4c4d-974e-c5d944fa9c5e",
   "metadata": {
    "ExecuteTime": {
     "end_time": "2024-05-21T08:12:35.110668Z",
     "start_time": "2024-05-21T08:12:30.471519Z"
    }
   },
   "source": [
    "%pip install biodivine_aeon==1.0.0a8"
   ],
   "outputs": [
    {
     "name": "stdout",
     "output_type": "stream",
     "text": [
      "Note: you may need to restart the kernel to use updated packages.Requirement already satisfied: biodivine_aeon==1.0.0a8 in c:\\users\\x240\\.virtualenvs\\casq-fork\\lib\\site-packages (1.0.0a8)\n",
      "\n"
     ]
    },
    {
     "name": "stderr",
     "output_type": "stream",
     "text": [
      "\n",
      "[notice] A new release of pip is available: 23.2.1 -> 24.0\n",
      "[notice] To update, run: python.exe -m pip install --upgrade pip\n"
     ]
    }
   ],
   "execution_count": 19
  },
  {
   "cell_type": "code",
   "id": "db708108-9677-4f66-88a0-4d95457b242f",
   "metadata": {
    "ExecuteTime": {
     "end_time": "2024-05-21T08:12:38.029792Z",
     "start_time": "2024-05-21T08:12:38.020549Z"
    }
   },
   "source": [
    "from biodivine_aeon import *\n",
    "from pathlib import Path"
   ],
   "outputs": [],
   "execution_count": 20
  },
  {
   "cell_type": "code",
   "id": "1c7133c4-1316-4aa1-b822-c273aebaf019",
   "metadata": {
    "ExecuteTime": {
     "end_time": "2024-05-21T08:12:41.673555Z",
     "start_time": "2024-05-21T08:12:41.636425Z"
    }
   },
   "source": [
    "model = BooleanNetwork.from_file(\"model_map1.aeon\")\n",
    "print(model)"
   ],
   "outputs": [
    {
     "name": "stdout",
     "output_type": "stream",
     "text": [
      "BooleanNetwork(variables=91, regulations=124, explicit_parameters=37, implicit_parameters=22)\n"
     ]
    }
   ],
   "execution_count": 21
  },
  {
   "cell_type": "code",
   "id": "7490719b-8731-49f4-8330-d2f917a62491",
   "metadata": {
    "ExecuteTime": {
     "end_time": "2024-05-21T08:12:44.293227Z",
     "start_time": "2024-05-21T08:12:44.260612Z"
    }
   },
   "source": [
    "stg = AsynchronousGraph(model)"
   ],
   "outputs": [],
   "execution_count": 22
  },
  {
   "cell_type": "markdown",
   "id": "bb050885-428e-4018-a4e3-6b1d03c87314",
   "metadata": {},
   "source": [
    "First, we identify the unknown functions that can be safely eliminated because they have only one interpretations that satisfies all the requirements regarding their input monotonicity and essentiality."
   ]
  },
  {
   "cell_type": "code",
   "id": "076900c5-af0a-4b76-8bc9-cbcafcc077cf",
   "metadata": {
    "ExecuteTime": {
     "end_time": "2024-05-21T08:12:47.386907Z",
     "start_time": "2024-05-21T08:12:47.362971Z"
    }
   },
   "source": [
    "to_eliminate = []\n",
    "for param in model.explicit_parameters():\n",
    "    print(model.get_explicit_parameter_name(param))\n",
    "    count = 0\n",
    "    for m in stg.mk_unit_colors().items(retained=[param]):\n",
    "        print(\" > \", m)\n",
    "        count += 1\n",
    "        if count == 100:\n",
    "            break\n",
    "    if count == 1:\n",
    "        to_eliminate.append(param)"
   ],
   "outputs": [
    {
     "name": "stdout",
     "output_type": "stream",
     "text": [
      "cat_Gab2_phosphorylated_51\n",
      " >  ColorModel({'cat_Gab2_phosphorylated_51': 'x_0'})\n",
      "cat_FceRI_Syk_complex_Cytosol_1_24\n",
      " >  ColorModel({'cat_FceRI_Syk_complex_Cytosol_1_24': 'x_0'})\n",
      " >  ColorModel({'cat_FceRI_Syk_complex_Cytosol_1_24': 'true'})\n",
      "cat_DAG_simple_molecule_65\n",
      " >  ColorModel({'cat_DAG_simple_molecule_65': '(x_0 & x_1)'})\n",
      " >  ColorModel({'cat_DAG_simple_molecule_65': '((!x_0 & x_1) | x_0)'})\n",
      "cat_IKK_Beta_phosphorylated_39\n",
      " >  ColorModel({'cat_IKK_Beta_phosphorylated_39': 'x_0'})\n",
      "cat_LAT2_phosphorylated_palmytoylated_47\n",
      " >  ColorModel({'cat_LAT2_phosphorylated_palmytoylated_47': '(x_0 & x_1)'})\n",
      " >  ColorModel({'cat_LAT2_phosphorylated_palmytoylated_47': '((!x_0 & x_1) | x_0)'})\n",
      "cat_Fyn_phosphorylated_phosphorylated_palmytoylated_62\n",
      " >  ColorModel({'cat_Fyn_phosphorylated_phosphorylated_palmytoylated_62': 'x_0'})\n",
      "cat_MKK7_MAP2K7__phosphorylated_67\n",
      " >  ColorModel({'cat_MKK7_MAP2K7__phosphorylated_67': 'x_0'})\n",
      "cat_MEK1_MAP2K1__phosphorylated_50\n",
      " >  ColorModel({'cat_MEK1_MAP2K1__phosphorylated_50': 'x_0'})\n",
      "cat_NFAT_Cytosol_73\n",
      " >  ColorModel({'cat_NFAT_Cytosol_73': 'x_0'})\n",
      "cat_FceRI_Syk_complex_Cytosol_1_25\n",
      " >  ColorModel({'cat_FceRI_Syk_complex_Cytosol_1_25': 'x_0'})\n",
      "cat_Ca2__ion_35\n",
      " >  ColorModel({'cat_Ca2__ion_35': 'x_0'})\n",
      "cat_MEK4_MAP2K4__phosphorylated_61\n",
      " >  ColorModel({'cat_MEK4_MAP2K4__phosphorylated_61': 'x_0'})\n",
      "cat_JNK_phosphorylated_70\n",
      " >  ColorModel({'cat_JNK_phosphorylated_70': '(x_0 & x_1)'})\n",
      " >  ColorModel({'cat_JNK_phosphorylated_70': '((!x_0 & x_1) | x_0)'})\n",
      "cat_Calmodulin_Calcineurin_complex_19\n",
      " >  ColorModel({'cat_Calmodulin_Calcineurin_complex_19': '(x_0 & x_1)'})\n",
      " >  ColorModel({'cat_Calmodulin_Calcineurin_complex_19': 'x_0'})\n",
      " >  ColorModel({'cat_Calmodulin_Calcineurin_complex_19': 'x_1'})\n",
      " >  ColorModel({'cat_Calmodulin_Calcineurin_complex_19': '((!x_0 & x_1) | x_0)'})\n",
      "cat_IP3_simple_molecule_57\n",
      " >  ColorModel({'cat_IP3_simple_molecule_57': '(x_0 & x_1)'})\n",
      " >  ColorModel({'cat_IP3_simple_molecule_57': '((!x_0 & x_1) | x_0)'})\n",
      "cat_Fc_gamma_RIIB_phosphorylated_66\n",
      " >  ColorModel({'cat_Fc_gamma_RIIB_phosphorylated_66': 'x_0'})\n",
      "cat_SHIP_1_phosphorylated_52\n",
      " >  ColorModel({'cat_SHIP_1_phosphorylated_52': 'x_0'})\n",
      "cat_Elk1_phosphorylated_53\n",
      " >  ColorModel({'cat_Elk1_phosphorylated_53': '(x_0 & (x_1 & x_2))'})\n",
      " >  ColorModel({'cat_Elk1_phosphorylated_53': '((!x_0 & (x_1 & x_2)) | (x_0 & x_2))'})\n",
      " >  ColorModel({'cat_Elk1_phosphorylated_53': '((!x_0 & (x_1 & x_2)) | (x_0 & x_1))'})\n",
      " >  ColorModel({'cat_Elk1_phosphorylated_53': '((x_0 & (!x_1 & x_2)) | (x_0 & x_1))'})\n",
      " >  ColorModel({'cat_Elk1_phosphorylated_53': '((!x_0 & (x_1 & x_2)) | ((x_0 & (!x_1 & x_2)) | (x_0 & x_1)))'})\n",
      " >  ColorModel({'cat_Elk1_phosphorylated_53': '((!x_0 & x_2) | ((x_0 & (!x_1 & x_2)) | (x_0 & x_1)))'})\n",
      " >  ColorModel({'cat_Elk1_phosphorylated_53': '((!x_0 & x_1) | ((x_0 & (!x_1 & x_2)) | (x_0 & x_1)))'})\n",
      " >  ColorModel({'cat_Elk1_phosphorylated_53': '((!x_0 & (x_1 & x_2)) | x_0)'})\n",
      " >  ColorModel({'cat_Elk1_phosphorylated_53': '((!x_0 & (!x_1 & x_2)) | ((!x_0 & x_1) | x_0))'})\n",
      "cat_SLP_76_phosphorylated_40\n",
      " >  ColorModel({'cat_SLP_76_phosphorylated_40': 'x_0'})\n",
      "cat_PIP3_simple_molecule_55\n",
      " >  ColorModel({'cat_PIP3_simple_molecule_55': 'x_0'})\n",
      "cat_MEKK1_MAP3K1__phosphorylated_74\n",
      " >  ColorModel({'cat_MEKK1_MAP3K1__phosphorylated_74': 'x_0'})\n",
      "cat_Fos_phosphorylated_68\n",
      " >  ColorModel({'cat_Fos_phosphorylated_68': 'x_0'})\n",
      "cat_LAT1_phosphorylated_phosphorylated_phosphorylated_phosphorylated_palmytoylated_54\n",
      " >  ColorModel({'cat_LAT1_phosphorylated_phosphorylated_phosphorylated_phosphorylated_palmytoylated_54': 'x_0'})\n",
      "cat_PLCG1_phosphorylated_64\n",
      " >  ColorModel({'cat_PLCG1_phosphorylated_64': 'x_0'})\n",
      "cat_Btk_phosphorylated_Cytosol_42\n",
      " >  ColorModel({'cat_Btk_phosphorylated_Cytosol_42': 'x_0'})\n",
      "cat_SOS_Grb2_complex_5\n",
      " >  ColorModel({'cat_SOS_Grb2_complex_5': 'x_0'})\n",
      " >  ColorModel({'cat_SOS_Grb2_complex_5': 'true'})\n",
      "cat_I_kappa_Beta___F_kappa_B_complex_32\n",
      " >  ColorModel({'cat_I_kappa_Beta___F_kappa_B_complex_32': 'x_0'})\n",
      "cat_Cbp_PAG_phosphorylated_palmytoylated_69\n",
      " >  ColorModel({'cat_Cbp_PAG_phosphorylated_palmytoylated_69': 'x_0'})\n",
      "cat_FceRI_phosphorylated_phosphorylated_46\n",
      " >  ColorModel({'cat_FceRI_phosphorylated_phosphorylated_46': 'x_0'})\n",
      "cat_Btk_phosphorylated_Cytosol_43\n",
      " >  ColorModel({'cat_Btk_phosphorylated_Cytosol_43': 'x_0'})\n",
      "cat_Ca2__ion_34\n",
      " >  ColorModel({'cat_Ca2__ion_34': 'x_0'})\n",
      "cat_MEK2_MAP2K2__phosphorylated_41\n",
      " >  ColorModel({'cat_MEK2_MAP2K2__phosphorylated_41': 'x_0'})\n",
      "cat_Erk_MAPK1_3__phosphorylated_49\n",
      " >  ColorModel({'cat_Erk_MAPK1_3__phosphorylated_49': '(x_0 & x_1)'})\n",
      " >  ColorModel({'cat_Erk_MAPK1_3__phosphorylated_49': '((!x_0 & x_1) | x_0)'})\n",
      "cat_c_JUN_phosphorylated_nucleus_1_59\n",
      " >  ColorModel({'cat_c_JUN_phosphorylated_nucleus_1_59': 'x_0'})\n",
      "cat_PIP3_Akt_complex_8\n",
      " >  ColorModel({'cat_PIP3_Akt_complex_8': 'x_0'})\n",
      " >  ColorModel({'cat_PIP3_Akt_complex_8': 'true'})\n",
      "cat_Shc_phosphorylated_56\n",
      " >  ColorModel({'cat_Shc_phosphorylated_56': '(x_0 & x_1)'})\n",
      " >  ColorModel({'cat_Shc_phosphorylated_56': '((!x_0 & x_1) | x_0)'})\n",
      "cat_Ca2_space_channel_36\n",
      " >  ColorModel({'cat_Ca2_space_channel_36': 'x_0'})\n"
     ]
    }
   ],
   "execution_count": 23
  },
  {
   "cell_type": "code",
   "id": "7281ca14-3ebd-4bf3-b53b-606f07ae91b7",
   "metadata": {
    "ExecuteTime": {
     "end_time": "2024-05-21T08:12:50.118289Z",
     "start_time": "2024-05-21T08:12:50.110717Z"
    }
   },
   "source": [
    "print(to_eliminate)"
   ],
   "outputs": [
    {
     "name": "stdout",
     "output_type": "stream",
     "text": [
      "[ParameterId(16), ParameterId(17), ParameterId(15), ParameterId(27), ParameterId(23), ParameterId(28), ParameterId(12), ParameterId(3), ParameterId(25), ParameterId(10), ParameterId(32), ParameterId(33), ParameterId(30), ParameterId(26), ParameterId(14), ParameterId(21), ParameterId(31), ParameterId(0), ParameterId(19), ParameterId(6), ParameterId(13), ParameterId(1), ParameterId(2), ParameterId(24), ParameterId(36), ParameterId(4)]\n"
     ]
    }
   ],
   "execution_count": 24
  },
  {
   "cell_type": "code",
   "id": "a128d95b-1c85-47be-8f3f-e2714547e4cd",
   "metadata": {
    "ExecuteTime": {
     "end_time": "2024-05-21T08:12:52.659046Z",
     "start_time": "2024-05-21T08:12:52.648828Z"
    }
   },
   "source": [
    "m = next(stg.mk_unit_colors().items(retained = to_eliminate))"
   ],
   "outputs": [],
   "execution_count": 25
  },
  {
   "cell_type": "code",
   "id": "76b3699d-cf12-4cb0-a7f1-c358692717c3",
   "metadata": {
    "ExecuteTime": {
     "end_time": "2024-05-21T08:12:55.135368Z",
     "start_time": "2024-05-21T08:12:55.128943Z"
    }
   },
   "source": [
    "model_simplified = m.instantiate(model)"
   ],
   "outputs": [],
   "execution_count": 26
  },
  {
   "cell_type": "code",
   "id": "67ebed1f-2a8e-46f1-8f82-00695a96f62e",
   "metadata": {
    "ExecuteTime": {
     "end_time": "2024-05-21T08:12:57.740164Z",
     "start_time": "2024-05-21T08:12:57.720857Z"
    }
   },
   "source": [
    "Path(\"model_map1.simplified.aeon\").write_text(model_simplified.to_aeon())"
   ],
   "outputs": [
    {
     "data": {
      "text/plain": [
       "13664"
      ]
     },
     "execution_count": 27,
     "metadata": {},
     "output_type": "execute_result"
    }
   ],
   "execution_count": 27
  },
  {
   "cell_type": "code",
   "id": "df25a801-6d30-4792-b675-4086131b1137",
   "metadata": {
    "ExecuteTime": {
     "end_time": "2024-05-21T08:13:03.546657Z",
     "start_time": "2024-05-21T08:13:03.534284Z"
    }
   },
   "source": [
    "stg = AsynchronousGraph(model_simplified)"
   ],
   "outputs": [],
   "execution_count": 28
  },
  {
   "cell_type": "code",
   "id": "10a1ee76-9ca6-4221-aadf-c1430dce2067",
   "metadata": {
    "ExecuteTime": {
     "end_time": "2024-05-21T08:13:06.472382Z",
     "start_time": "2024-05-21T08:13:06.454494Z"
    }
   },
   "source": [
    "# This identifies model outputs. In the next step, we restrict them manually to\n",
    "# a subset of outputs that are biologically interpretable.\n",
    "outputs = []\n",
    "for var in model_simplified.variable_names():\n",
    "    if len(model_simplified.successors(var)) == 0:\n",
    "        outputs.append(var)\n",
    "outputs"
   ],
   "outputs": [
    {
     "data": {
      "text/plain": [
       "['Ca2_slash_DAG_RASGRP1_RAS_C_RAF_complex',\n",
       " 'Elk1_phosphorylated',\n",
       " 'Fyn_phosphorylated_phosphorylated_palmytoylated',\n",
       " 'I_kB_phosphorylated',\n",
       " 'Jun_Fos_complex',\n",
       " 'LAT2_Grb2_Shc_SOS_H_RAS_RAF1_complex',\n",
       " 'NFAT_nucleus',\n",
       " 'NF_kappa_B_nucleus',\n",
       " 'PIP3_Akt_complex',\n",
       " 'c_JUN_phosphorylated_nucleus']"
      ]
     },
     "execution_count": 29,
     "metadata": {},
     "output_type": "execute_result"
    }
   ],
   "execution_count": 29
  },
  {
   "cell_type": "code",
   "id": "90d0e50f-47ca-4e3a-b912-706dd4da4f67",
   "metadata": {
    "ExecuteTime": {
     "end_time": "2024-05-21T08:13:09.097950Z",
     "start_time": "2024-05-21T08:13:09.088676Z"
    }
   },
   "source": [
    "# Actually relevant outputs:\n",
    "outputs = ['Ca2_slash_DAG_RASGRP1_RAS_C_RAF_complex',\n",
    " 'Elk1_phosphorylated',\n",
    " 'Jun_Fos_complex',\n",
    " 'NFAT_nucleus',\n",
    " 'NF_kappa_B_nucleus',\n",
    " 'PIP3_Akt_complex']\n",
    "outputs"
   ],
   "outputs": [
    {
     "data": {
      "text/plain": [
       "['Ca2_slash_DAG_RASGRP1_RAS_C_RAF_complex',\n",
       " 'Elk1_phosphorylated',\n",
       " 'Jun_Fos_complex',\n",
       " 'NFAT_nucleus',\n",
       " 'NF_kappa_B_nucleus',\n",
       " 'PIP3_Akt_complex']"
      ]
     },
     "execution_count": 30,
     "metadata": {},
     "output_type": "execute_result"
    }
   ],
   "execution_count": 30
  },
  {
   "cell_type": "code",
   "id": "7ec1ee60-b63a-48ce-aab8-5d6b3ece89fe",
   "metadata": {
    "ExecuteTime": {
     "end_time": "2024-05-21T08:13:11.759921Z",
     "start_time": "2024-05-21T08:13:11.747357Z"
    }
   },
   "source": [
    "inputs = []\n",
    "for var in model_simplified.variable_names():\n",
    "    if len(model_simplified.predecessors(var)) == 0:\n",
    "        inputs.append(var)\n",
    "inputs"
   ],
   "outputs": [
    {
     "data": {
      "text/plain": [
       "['Akt',\n",
       " 'Bcr',\n",
       " 'Btk',\n",
       " 'CRAC',\n",
       " 'Csk',\n",
       " 'Dok1_RasGAP_complex',\n",
       " 'Fyn_phosphorylated_palmytoylated',\n",
       " 'GRAP2',\n",
       " 'H_RAS_Plasma_space_Membrane',\n",
       " 'LAT2_Grb2_complex',\n",
       " 'PAK2',\n",
       " 'PIP2_simple_molecule',\n",
       " 'PI_3K',\n",
       " 'PKC_space_Theta',\n",
       " 'PLCG1',\n",
       " 'RAF1_Cytosol',\n",
       " 'RASGRP1',\n",
       " 'Rac1',\n",
       " 'Shc_Grb2_complex',\n",
       " 'Syk',\n",
       " 'Vav1',\n",
       " 'cCbl']"
      ]
     },
     "execution_count": 31,
     "metadata": {},
     "output_type": "execute_result"
    }
   ],
   "execution_count": 31
  },
  {
   "cell_type": "code",
   "id": "244caabc-ad98-47cc-89a0-48f39eb9129b",
   "metadata": {
    "ExecuteTime": {
     "end_time": "2024-05-21T08:13:14.347739Z",
     "start_time": "2024-05-21T08:13:14.338238Z"
    }
   },
   "source": [
    "params = []\n",
    "for p in model_simplified.explicit_parameter_names():\n",
    "    params.append((p, model_simplified.get_explicit_parameter_arity(p)))\n",
    "params"
   ],
   "outputs": [
    {
     "data": {
      "text/plain": [
       "[('cat_Calmodulin_Calcineurin_complex_19', 2),\n",
       " ('cat_DAG_simple_molecule_65', 2),\n",
       " ('cat_Elk1_phosphorylated_53', 3),\n",
       " ('cat_Erk_MAPK1_3__phosphorylated_49', 2),\n",
       " ('cat_FceRI_Syk_complex_Cytosol_1_24', 1),\n",
       " ('cat_IP3_simple_molecule_57', 2),\n",
       " ('cat_JNK_phosphorylated_70', 2),\n",
       " ('cat_LAT2_phosphorylated_palmytoylated_47', 2),\n",
       " ('cat_PIP3_Akt_complex_8', 1),\n",
       " ('cat_SOS_Grb2_complex_5', 1),\n",
       " ('cat_Shc_phosphorylated_56', 2)]"
      ]
     },
     "execution_count": 32,
     "metadata": {},
     "output_type": "execute_result"
    }
   ],
   "execution_count": 32
  },
  {
   "cell_type": "code",
   "id": "60457ec5-13af-46af-8251-d3dcd2ab95b1",
   "metadata": {
    "ExecuteTime": {
     "end_time": "2024-05-21T08:13:17.082370Z",
     "start_time": "2024-05-21T08:13:17.046694Z"
    }
   },
   "source": [
    "ctx = SymbolicSpaceContext(model_simplified)\n",
    "stg = AsynchronousGraph(model_simplified, ctx)"
   ],
   "outputs": [],
   "execution_count": 33
  },
  {
   "cell_type": "markdown",
   "id": "0299b7d9-3a5b-4628-863d-5b594ec625c0",
   "metadata": {},
   "source": [
    "Compute minimal trap spaces across all interpretations. These should almost exactly correspond to model attractors (this can take a few minutes)."
   ]
  },
  {
   "cell_type": "code",
   "id": "c3c1dc91-6bbc-4f31-86a1-42c30909e02d",
   "metadata": {
    "ExecuteTime": {
     "end_time": "2024-05-21T08:13:34.249498Z",
     "start_time": "2024-05-21T08:13:25.983592Z"
    }
   },
   "source": [
    "traps = TrapSpaces.essential_symbolic(ctx, stg, ctx.mk_unit_colored_spaces(stg))"
   ],
   "outputs": [],
   "execution_count": 34
  },
  {
   "cell_type": "code",
   "id": "7466a8e0-ceb0-4490-b36f-55565a8c4d96",
   "metadata": {},
   "source": [
    "min_traps = TrapSpaces.minimize(ctx, traps)"
   ],
   "outputs": [],
   "execution_count": 35
  },
  {
   "cell_type": "code",
   "id": "bd11b12f-7656-4a7d-8f47-afeed55003c2",
   "metadata": {
    "ExecuteTime": {
     "end_time": "2024-05-21T08:40:02.789121Z",
     "start_time": "2024-05-21T08:40:01.542422Z"
    }
   },
   "source": [
    "min_traps"
   ],
   "outputs": [
    {
     "data": {
      "text/plain": [
       "ColoredSpaceSet(cardinality=228493099008, colors=77309411328, spaces=35929632, symbolic_size=588576)"
      ]
     },
     "execution_count": 36,
     "metadata": {},
     "output_type": "execute_result"
    }
   ],
   "execution_count": 36
  },
  {
   "cell_type": "markdown",
   "id": "6f61daf3-13fb-4f3d-8e93-c05a7fdf6cf2",
   "metadata": {},
   "source": [
    "Compute the number of output value combinations that can actually appear in the model, and the distribution of output values within these combinations."
   ]
  },
  {
   "cell_type": "code",
   "id": "7d3427d9-33ac-4e58-ac8f-82baaa8b4dd4",
   "metadata": {
    "ExecuteTime": {
     "end_time": "2024-05-21T08:40:10.055718Z",
     "start_time": "2024-05-21T08:40:09.530115Z"
    }
   },
   "source": [
    "phenotype_iterator = min_traps.spaces().items(retained = outputs)\n",
    "phenotype_count = sum(1 for _ in phenotype_iterator)\n",
    "print(f\"Phenotypes: {phenotype_count}\")"
   ],
   "outputs": [
    {
     "name": "stdout",
     "output_type": "stream",
     "text": [
      "Phenotypes: 84\n"
     ]
    }
   ],
   "execution_count": 37
  },
  {
   "cell_type": "code",
   "id": "2e17f78f-01e6-4796-8a28-a3ad0a8ceea0",
   "metadata": {
    "ExecuteTime": {
     "end_time": "2024-05-21T08:40:16.338216Z",
     "start_time": "2024-05-21T08:40:13.535498Z"
    }
   },
   "source": [
    "is_zero = { var: 0 for var in outputs }\n",
    "is_one = { var: 0 for var in outputs }\n",
    "is_any = { var: 0 for var in outputs }\n",
    "for phenotype in min_traps.spaces().items(retained = outputs):\n",
    "    phenotype_traps = min_traps.intersect_spaces(phenotype.to_symbolic())\n",
    "    for (var, value) in phenotype.items():        \n",
    "        var = ctx.get_network_variable_name(var)\n",
    "        if value == True:\n",
    "            is_one[var] += 1\n",
    "        elif value == False:\n",
    "            is_zero[var] += 1\n",
    "        else:\n",
    "            is_any[var] += 1\n",
    "\n",
    "print(\"Zero:\", is_zero)\n",
    "print(\"One:\", is_one)\n",
    "print(\"Any:\", is_any)"
   ],
   "outputs": [
    {
     "name": "stdout",
     "output_type": "stream",
     "text": [
      "Zero: {'Ca2_slash_DAG_RASGRP1_RAS_C_RAF_complex': 52, 'Elk1_phosphorylated': 20, 'Jun_Fos_complex': 52, 'NFAT_nucleus': 26, 'NF_kappa_B_nucleus': 36, 'PIP3_Akt_complex': 42}\n",
      "One: {'Ca2_slash_DAG_RASGRP1_RAS_C_RAF_complex': 20, 'Elk1_phosphorylated': 24, 'Jun_Fos_complex': 12, 'NFAT_nucleus': 58, 'NF_kappa_B_nucleus': 30, 'PIP3_Akt_complex': 42}\n",
      "Any: {'Ca2_slash_DAG_RASGRP1_RAS_C_RAF_complex': 12, 'Elk1_phosphorylated': 40, 'Jun_Fos_complex': 20, 'NFAT_nucleus': 0, 'NF_kappa_B_nucleus': 18, 'PIP3_Akt_complex': 0}\n"
     ]
    }
   ],
   "execution_count": 38
  },
  {
   "cell_type": "code",
   "id": "09e62fbe-432f-4e8f-a604-effe7e4e450c",
   "metadata": {
    "ExecuteTime": {
     "end_time": "2024-05-21T08:40:19.137782Z",
     "start_time": "2024-05-21T08:40:19.072819Z"
    }
   },
   "source": [
    "def cardinality_without_inputs(ctx, inputs, set):\n",
    "    # Project the BDD to remove inputs.\n",
    "    set_bdd = set.to_bdd()\n",
    "    ignore_vars = [ ctx.get_function_table(i)[0][1] for i in inputs ]\n",
    "    set_bdd = set_bdd.r_exists(ignore_vars)\n",
    "\n",
    "    all_vars = ctx.bdd_variable_set().variable_count()\n",
    "    function_vars = sum(len(x) for x in ctx.explicit_functions_bdd_variables().values())\n",
    "\n",
    "    general_cardinality = set_bdd.cardinality()\n",
    "    return int(general_cardinality / (2 ** (all_vars - function_vars)))\n",
    "\n",
    "def prune_inputs(ctx, inputs, set):\n",
    "    set_bdd = set.to_bdd()\n",
    "    ignore_vars = [ ctx.get_function_table(i)[0][1] for i in inputs ]\n",
    "    set_bdd = set_bdd.r_exists(ignore_vars)\n",
    "\n",
    "    return ColorSet(ctx, set_bdd)\n",
    "\n",
    "def prune_inputs_forall(ctx, inputs, set):\n",
    "    set_bdd = set.to_bdd()\n",
    "    ignore_vars = [ ctx.get_function_table(i)[0][1] for i in inputs ]\n",
    "    set_bdd = set_bdd.r_for_all(ignore_vars)\n",
    "\n",
    "    return ColorSet(ctx, set_bdd)"
   ],
   "outputs": [],
   "execution_count": 39
  },
  {
   "cell_type": "markdown",
   "id": "a6d0a1b2-5244-47e2-8306-4e9b337eed53",
   "metadata": {},
   "source": [
    "Build a table showing the multiplicity of various attractor combinations for each output variable:"
   ]
  },
  {
   "cell_type": "code",
   "id": "bd094df4-428f-4e14-ad84-5d07a3901d1c",
   "metadata": {
    "ExecuteTime": {
     "end_time": "2024-05-21T08:40:26.982750Z",
     "start_time": "2024-05-21T08:40:23.839068Z"
    }
   },
   "source": [
    "print(f\"0\\t1\\t*\\t0-1\\t1-*\\t0-*\\t0-1-*\\tname\")\n",
    "\n",
    "for var in outputs:\n",
    "    p_var = ctx.get_positive_space_variable(var)\n",
    "    n_var = ctx.get_negative_space_variable(var)\n",
    "    var_is_one = SpaceSet(ctx, ctx.bdd_variable_set().mk_conjunctive_clause({ p_var: True, n_var: False }))\n",
    "    var_is_zero = SpaceSet(ctx, ctx.bdd_variable_set().mk_conjunctive_clause({ p_var: False, n_var: True }))\n",
    "    var_is_any = SpaceSet(ctx, ctx.bdd_variable_set().mk_conjunctive_clause({ p_var: True, n_var: True }))\n",
    "\n",
    "    one_colors = min_traps.intersect_spaces(var_is_one).colors()\n",
    "    zero_colors = min_traps.intersect_spaces(var_is_zero).colors()\n",
    "    any_colors = min_traps.intersect_spaces(var_is_any).colors()\n",
    "\n",
    "    # one_colors = prune_inputs(ctx, inputs, one_colors)\n",
    "    # zero_colors = prune_inputs(ctx, inputs, zero_colors)\n",
    "    # any_colors = prune_inputs(ctx, inputs, any_colors)\n",
    "\n",
    "    one = one_colors.minus(zero_colors).minus(any_colors)\n",
    "    zero = zero_colors.minus(one_colors).minus(any_colors)\n",
    "    any = any_colors.minus(zero_colors).minus(one_colors)\n",
    "    zero_one = one_colors.intersect(zero_colors).minus(any_colors)\n",
    "    one_any = one_colors.intersect(any_colors).minus(zero_colors)\n",
    "    zero_any = zero_colors.intersect(any_colors).minus(one_colors)\n",
    "    zero_one_any = zero_colors.intersect(one_colors).intersect(any_colors)\n",
    "    \n",
    "    # c_one = cardinality_without_inputs(ctx, inputs, one)\n",
    "    # c_zero = cardinality_without_inputs(ctx, inputs, zero)\n",
    "    # c_any = cardinality_without_inputs(ctx, inputs, any)\n",
    "    # c_zero_one = cardinality_without_inputs(ctx, inputs, zero_one)\n",
    "    # c_one_any = cardinality_without_inputs(ctx, inputs, one_any)\n",
    "    # c_zero_any = cardinality_without_inputs(ctx, inputs, zero_any)\n",
    "    # c_zero_one_any = cardinality_without_inputs(ctx, inputs, zero_one_any)\n",
    "\n",
    "    c_one = one.cardinality()\n",
    "    c_zero = zero.cardinality()\n",
    "    c_any = any.cardinality()\n",
    "    c_zero_one = zero_one.cardinality()\n",
    "    c_one_any = one_any.cardinality()\n",
    "    c_zero_any = zero_any.cardinality()\n",
    "    c_zero_one_any = zero_one_any.cardinality()\n",
    "\n",
    "    print(f\"{c_zero}\\t{c_one}\\t{c_any}\\t{c_zero_one}\\t{c_one_any}\\t{c_zero_any}\\t{c_zero_one_any}\\t{var}\")    "
   ],
   "outputs": [
    {
     "name": "stdout",
     "output_type": "stream",
     "text": [
      "0\t1\t*\t0-1\t1-*\t0-*\t0-1-*\tname\n",
      "76880019456\t207618048\t7077888\t207618048\t0\t7077888\t0\tCa2_slash_DAG_RASGRP1_RAS_C_RAF_complex\n",
      "76910952448\t351272960\t47185920\t0\t0\t0\t0\tElk1_phosphorylated\n",
      "77224476672\t56623104\t28311552\t0\t0\t0\t0\tJun_Fos_complex\n",
      "0\t38654705664\t0\t38654705664\t0\t0\t0\tNFAT_nucleus\n",
      "75591843840\t1703411712\t14155776\t0\t0\t0\t0\tNF_kappa_B_nucleus\n",
      "75723964416\t1585446912\t0\t0\t0\t0\t0\tPIP3_Akt_complex\n"
     ]
    }
   ],
   "execution_count": 40
  },
  {
   "cell_type": "markdown",
   "id": "bcf8687f-24ef-4d6e-9d52-109eb6fed136",
   "metadata": {},
   "source": [
    "Finally, let us compare the partial network to the original CaSQ network:"
   ]
  },
  {
   "cell_type": "code",
   "id": "d257c045-e8bd-48bc-97d1-4004baab0c40",
   "metadata": {
    "ExecuteTime": {
     "end_time": "2024-05-21T08:40:32.661039Z",
     "start_time": "2024-05-21T08:40:32.641536Z"
    }
   },
   "source": [
    "model_known = BooleanNetwork.from_file(\"model_map1.full.aeon\")\n",
    "print(model_known)"
   ],
   "outputs": [
    {
     "name": "stdout",
     "output_type": "stream",
     "text": [
      "BooleanNetwork(variables=91, regulations=124, explicit_parameters=0, implicit_parameters=22)\n"
     ]
    }
   ],
   "execution_count": 41
  },
  {
   "cell_type": "code",
   "id": "1ca1341f-458f-403c-866e-e78c82e448b2",
   "metadata": {
    "ExecuteTime": {
     "end_time": "2024-05-21T08:40:37.853122Z",
     "start_time": "2024-05-21T08:40:37.826077Z"
    }
   },
   "source": [
    "ctx_known = SymbolicSpaceContext(model_known)\n",
    "stg_known = AsynchronousGraph(model_known, ctx_known)"
   ],
   "outputs": [],
   "execution_count": 42
  },
  {
   "cell_type": "code",
   "id": "6f2323c4-b226-458c-8d9e-12b4efb9f556",
   "metadata": {
    "ExecuteTime": {
     "end_time": "2024-05-21T08:40:47.368739Z",
     "start_time": "2024-05-21T08:40:41.595986Z"
    }
   },
   "source": [
    "traps_known = TrapSpaces.essential_symbolic(ctx_known, stg_known, ctx_known.mk_unit_colored_spaces(stg_known))"
   ],
   "outputs": [],
   "execution_count": 43
  },
  {
   "cell_type": "code",
   "id": "9b35fdd3-6a91-493e-950b-598216493a60",
   "metadata": {
    "ExecuteTime": {
     "end_time": "2024-05-21T08:46:05.890469Z",
     "start_time": "2024-05-21T08:40:51.881490Z"
    }
   },
   "source": [
    "min_traps_known = TrapSpaces.minimize(ctx_known, traps_known)"
   ],
   "outputs": [],
   "execution_count": 44
  },
  {
   "cell_type": "code",
   "id": "0e9b6ce6-7a4d-465a-b7ad-583f99cfcc56",
   "metadata": {
    "ExecuteTime": {
     "end_time": "2024-05-21T08:58:49.862307Z",
     "start_time": "2024-05-21T08:58:49.831707Z"
    }
   },
   "source": [
    "min_traps_transferred = ColoredSpaceSet(ctx, ctx.transfer_from(min_traps_known.to_bdd(), ctx_known))"
   ],
   "outputs": [],
   "execution_count": 45
  },
  {
   "cell_type": "code",
   "id": "db06f43b-632a-4b20-9370-444315b7912c",
   "metadata": {
    "ExecuteTime": {
     "end_time": "2024-05-21T08:58:55.098933Z",
     "start_time": "2024-05-21T08:58:54.849711Z"
    }
   },
   "source": [
    "equivalent = prune_inputs_forall(ctx, inputs, min_traps.intersect(min_traps_transferred).colors())\n",
    "print(\"All models:\", cardinality_without_inputs(ctx, inputs, stg.mk_unit_colors()))\n",
    "print(\"Equivalent models:\", cardinality_without_inputs(ctx, inputs, equivalent))"
   ],
   "outputs": [
    {
     "name": "stdout",
     "output_type": "stream",
     "text": [
      "All models: 18432\n",
      "Equivalent models: 128\n"
     ]
    }
   ],
   "execution_count": 46
  },
  {
   "cell_type": "markdown",
   "id": "ab383b28-574d-433e-9b71-cfe6c1d53986",
   "metadata": {},
   "source": [
    "Let's examine which funtions are fixed/free in the 128 equivalent models:"
   ]
  },
  {
   "cell_type": "code",
   "id": "d44bffb0-dba9-49d1-a396-6e7f8f8e7e52",
   "metadata": {
    "ExecuteTime": {
     "end_time": "2024-05-21T08:58:59.570251Z",
     "start_time": "2024-05-21T08:58:59.545248Z"
    }
   },
   "source": [
    "for param in model_simplified.explicit_parameters():\n",
    "    print(model_simplified.get_explicit_parameter_name(param))\n",
    "    count = 0\n",
    "    for m in equivalent.items(retained=[param]):\n",
    "        print(\" > \", m)\n",
    "        count += 1\n",
    "        if count == 100:\n",
    "            break\n",
    "    total = 0\n",
    "    for m in stg.mk_unit_colors().items(retained=[param]):\n",
    "        total += 1\n",
    "    print(f\"{count}/{total}\")"
   ],
   "outputs": [
    {
     "name": "stdout",
     "output_type": "stream",
     "text": [
      "cat_Elk1_phosphorylated_53\n",
      " >  ColorModel({'cat_Elk1_phosphorylated_53': '((!x_0 & (x_1 & x_2)) | x_0)'})\n",
      " >  ColorModel({'cat_Elk1_phosphorylated_53': '((!x_0 & (!x_1 & x_2)) | ((!x_0 & x_1) | x_0))'})\n",
      "2/9\n",
      "cat_Shc_phosphorylated_56\n",
      " >  ColorModel({'cat_Shc_phosphorylated_56': '((!x_0 & x_1) | x_0)'})\n",
      "1/2\n",
      "cat_IP3_simple_molecule_57\n",
      " >  ColorModel({'cat_IP3_simple_molecule_57': '(x_0 & x_1)'})\n",
      " >  ColorModel({'cat_IP3_simple_molecule_57': '((!x_0 & x_1) | x_0)'})\n",
      "2/2\n",
      "cat_Erk_MAPK1_3__phosphorylated_49\n",
      " >  ColorModel({'cat_Erk_MAPK1_3__phosphorylated_49': '(x_0 & x_1)'})\n",
      " >  ColorModel({'cat_Erk_MAPK1_3__phosphorylated_49': '((!x_0 & x_1) | x_0)'})\n",
      "2/2\n",
      "cat_FceRI_Syk_complex_Cytosol_1_24\n",
      " >  ColorModel({'cat_FceRI_Syk_complex_Cytosol_1_24': 'x_0'})\n",
      " >  ColorModel({'cat_FceRI_Syk_complex_Cytosol_1_24': 'true'})\n",
      "2/2\n",
      "cat_LAT2_phosphorylated_palmytoylated_47\n",
      " >  ColorModel({'cat_LAT2_phosphorylated_palmytoylated_47': '((!x_0 & x_1) | x_0)'})\n",
      "1/2\n",
      "cat_DAG_simple_molecule_65\n",
      " >  ColorModel({'cat_DAG_simple_molecule_65': '((!x_0 & x_1) | x_0)'})\n",
      "1/2\n",
      "cat_PIP3_Akt_complex_8\n",
      " >  ColorModel({'cat_PIP3_Akt_complex_8': 'x_0'})\n",
      "1/2\n",
      "cat_SOS_Grb2_complex_5\n",
      " >  ColorModel({'cat_SOS_Grb2_complex_5': 'x_0'})\n",
      "1/2\n",
      "cat_Calmodulin_Calcineurin_complex_19\n",
      " >  ColorModel({'cat_Calmodulin_Calcineurin_complex_19': '(x_0 & x_1)'})\n",
      " >  ColorModel({'cat_Calmodulin_Calcineurin_complex_19': 'x_0'})\n",
      " >  ColorModel({'cat_Calmodulin_Calcineurin_complex_19': 'x_1'})\n",
      " >  ColorModel({'cat_Calmodulin_Calcineurin_complex_19': '((!x_0 & x_1) | x_0)'})\n",
      "4/4\n",
      "cat_JNK_phosphorylated_70\n",
      " >  ColorModel({'cat_JNK_phosphorylated_70': '(x_0 & x_1)'})\n",
      " >  ColorModel({'cat_JNK_phosphorylated_70': '((!x_0 & x_1) | x_0)'})\n",
      "2/2\n"
     ]
    }
   ],
   "execution_count": 47
  },
  {
   "cell_type": "code",
   "id": "41de697b-a37c-496f-8ef7-23e6af45b93f",
   "metadata": {},
   "source": [],
   "outputs": [],
   "execution_count": null
  }
 ],
 "metadata": {
  "kernelspec": {
   "display_name": "Python 3 (ipykernel)",
   "language": "python",
   "name": "python3"
  },
  "language_info": {
   "codemirror_mode": {
    "name": "ipython",
    "version": 3
   },
   "file_extension": ".py",
   "mimetype": "text/x-python",
   "name": "python",
   "nbconvert_exporter": "python",
   "pygments_lexer": "ipython3",
   "version": "3.12.3"
  }
 },
 "nbformat": 4,
 "nbformat_minor": 5
}
